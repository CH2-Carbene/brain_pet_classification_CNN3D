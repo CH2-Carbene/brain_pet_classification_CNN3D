{
 "cells": [
  {
   "cell_type": "code",
   "execution_count": 1,
   "metadata": {},
   "outputs": [],
   "source": [
    "import sklearn\n",
    "import tensorflow as tf\n",
    "from tensorflow import keras\n",
    "from matplotlib import pylab as plt\n",
    "import numpy as np  \n",
    "# import matplotlib #don't delete!"
   ]
  },
  {
   "cell_type": "code",
   "execution_count": 2,
   "metadata": {},
   "outputs": [
    {
     "data": {
      "image/png": "[encoded data removed]",
      "text/plain": [
       "<Figure size 576x576 with 3 Axes>"
      ]
     },
     "metadata": {
      "needs_background": "light"
     },
     "output_type": "display_data"
    },
    {
     "data": {
      "text/plain": [
       "(91, 109, 91)"
      ]
     },
     "execution_count": 2,
     "metadata": {},
     "output_type": "execute_result"
    }
   ],
   "source": [
    "from matplotlib import pylab as plt\n",
    "import nibabel as nib\n",
    "from nibabel.viewers import OrthoSlicer3D\n",
    "example_filename = \"./datasets/A4/A4_aligned/B10018169/Florbetapir/cmeanA4_B10018169_MR_Florbetapir_Br_20200720182306561_S893044_I1321166.nii.gz\"\n",
    " \n",
    "img = nib.load(example_filename)\n",
    "OrthoSlicer3D(img.dataobj).show()\n",
    "fdata=img.get_fdata()\n",
    "fdata.shape"
   ]
  },
  {
   "cell_type": "code",
   "execution_count": 21,
   "metadata": {},
   "outputs": [],
   "source": [
    "###set target_dict\n",
    "csv_name=\"A4_SUBJINFO_PRV2\"\n",
    "tc=\"AGEYR\"\n",
    "pf=lambda x:x\n",
    "\n",
    "\n",
    "csv_name=\"A4_SUBJINFO_PRV2\"\n",
    "tc=\"APOEGN\"\n",
    "labels=[\n",
    "    \"E2/E2\",\n",
    "    \"E2/E3\",\n",
    "    \"E2/E4\",\n",
    "    \"E3/E3\",\n",
    "    \"E3/E4\",\n",
    "    \"E4/E4\"\n",
    "]\n",
    "pf=lambda x:{\n",
    "    # \"NA\":0,\n",
    "    labels[i]:i for i in range(len(labels))\n",
    "    }[x]\n",
    "tg_dict={\n",
    "    \"csv_name\":csv_name+\".csv\",\n",
    "    \"target_column\":tc,\n",
    "    \"prefunc\":pf\n",
    "}"
   ]
  },
  {
   "cell_type": "code",
   "execution_count": 3,
   "metadata": {},
   "outputs": [
    {
     "name": "stderr",
     "output_type": "stream",
     "text": [
      "  1%|          | 47/6945 [00:00<00:11, 624.93it/s]\n"
     ]
    },
    {
     "name": "stdout",
     "output_type": "stream",
     "text": [
      "Total data number:30\n",
      "unusable BID:['B10048838', 'B10082310', 'B10087409', 'B10116545', 'B10120577', 'B10161786', 'B10216041', 'B10250828', 'B10297864', 'B10314311', 'B10375785', 'B10466532', 'B10470395', 'B10475432', 'B10566568', 'B10580593', 'B10586719']\n"
     ]
    },
    {
     "name": "stderr",
     "output_type": "stream",
     "text": [
      "100%|██████████| 25/25 [00:02<00:00,  9.24it/s]\n"
     ]
    },
    {
     "name": "stdout",
     "output_type": "stream",
     "text": [
      "(125, 42, 50, 42)\n"
     ]
    },
    {
     "name": "stderr",
     "output_type": "stream",
     "text": [
      "100%|██████████| 2/2 [00:00<00:00, 20.60it/s]\n"
     ]
    },
    {
     "name": "stdout",
     "output_type": "stream",
     "text": [
      "(2, 42, 50, 42)\n"
     ]
    },
    {
     "name": "stderr",
     "output_type": "stream",
     "text": [
      "100%|██████████| 3/3 [00:00<00:00, 18.16it/s]"
     ]
    },
    {
     "name": "stdout",
     "output_type": "stream",
     "text": [
      "(3, 42, 50, 42)\n",
      "Train imgs: 25\n",
      "Val imgs: 2\n",
      "Test imgs: 3\n"
     ]
    },
    {
     "name": "stderr",
     "output_type": "stream",
     "text": [
      "\n"
     ]
    }
   ],
   "source": [
    "from dataloader.A4 import preprocess_save_img,load_data\n",
    "from sklearn.model_selection import train_test_split,KFold\n",
    "\n",
    "x,y=load_data(csv_name+\".csv\",tc,max_size=30)\n",
    "# pre_fy=lambda y:1 if y==\"positive\" else 0\n",
    "# dataset=(x,y)\n",
    "x_train,x_test=train_test_split(\n",
    "    x,test_size=0.1,random_state=1919810\n",
    ")\n",
    "x_train,x_val=train_test_split(\n",
    "    x_train,test_size=0.05,random_state=114514\n",
    ")\n",
    "\n",
    "train_data_dir=\"datasets/A4/train\"\n",
    "val_data_dir=\"datasets/A4/val\"\n",
    "test_data_dir=\"datasets/A4/test\"\n",
    "\n",
    "train_data_file=preprocess_save_img(x_train,train_data_dir,4)\n",
    "val_data_file=preprocess_save_img(x_val,val_data_dir)\n",
    "test_data_file=preprocess_save_img(x_test,test_data_dir)\n",
    "\n",
    "# train_d,val_d,test_d=(\n",
    "#     A4Dataset_train(x_train,y_train,ag_rate=4,batch_size=64,pre_fy=pre_fy),\n",
    "#     A4Dataset_test(x_val,y_val,batch_size=64,pre_fy=pre_fy),\n",
    "#     A4Dataset_test(x_test,y_test,batch_size=64,pre_fy=pre_fy)\n",
    "# )\n",
    "\n",
    "print(\"Train imgs:\",len(x_train))\n",
    "print(\"Val imgs:\",len(x_val))\n",
    "print(\"Test imgs:\",len(x_test))\n",
    "\n",
    "# kf = KFold(n_splits=10)"
   ]
  },
  {
   "cell_type": "code",
   "execution_count": 4,
   "metadata": {},
   "outputs": [
    {
     "name": "stdout",
     "output_type": "stream",
     "text": [
      "(125,)\n",
      "(2,)\n",
      "(3,)\n",
      "datasets/A4/train\\target.npy\n",
      "datasets/A4/val\\target.npy\n",
      "datasets/A4/test\\target.npy\n"
     ]
    }
   ],
   "source": [
    "### make target data\n",
    "from dataloader.A4 import preprocess_save_target\n",
    "train_data_dir=\"datasets/A4/train\"\n",
    "val_data_dir=\"datasets/A4/val\"\n",
    "test_data_dir=\"datasets/A4/test\"\n",
    "train_data_file,val_data_file,test_data_file=(\n",
    "    \"datasets/A4/train/dataset.npy\",\n",
    "    \"datasets/A4/val/dataset.npy\",\n",
    "    \"datasets/A4/test/dataset.npy\")\n",
    "\n",
    "train_target_file,val_target_file,test_target_file=(\n",
    "    \"datasets/A4/train/target.npy\",\n",
    "    \"datasets/A4/val/target.npy\",\n",
    "    \"datasets/A4/test/target.npy\")\n",
    "train_target_file=preprocess_save_target(train_data_dir,**tg_dict)\n",
    "val_target_file=preprocess_save_target(val_data_dir,**tg_dict)\n",
    "test_target_file=preprocess_save_target(test_data_dir,**tg_dict)\n",
    "\n",
    "print(train_target_file)\n",
    "print(val_target_file)\n",
    "print(test_target_file)\n"
   ]
  },
  {
   "cell_type": "code",
   "execution_count": 32,
   "metadata": {},
   "outputs": [
    {
     "name": "stdout",
     "output_type": "stream",
     "text": [
      "Epoch 1/3\n",
      "2/2 [==============================] - 10s 4s/step - loss: 1.9521 - sparse_categorical_accuracy: 0.0720 - val_loss: 1.9007 - val_sparse_categorical_accuracy: 0.0000e+00\n",
      "Epoch 2/3\n",
      "2/2 [==============================] - 6s 3s/step - loss: 1.9233 - sparse_categorical_accuracy: 0.0960 - val_loss: 1.9009 - val_sparse_categorical_accuracy: 0.0000e+00\n",
      "Epoch 3/3\n",
      "2/2 [==============================] - 7s 4s/step - loss: 1.9227 - sparse_categorical_accuracy: 0.1120 - val_loss: 1.9010 - val_sparse_categorical_accuracy: 0.0000e+00\n"
     ]
    }
   ],
   "source": [
    "from tensorflow.keras import callbacks\n",
    "import matplotlib.pyplot as plt\n",
    "import numpy as np\n",
    "import time\n",
    "from units.model import CNN3D\n",
    "\n",
    "cb = [\n",
    "    callbacks.ModelCheckpoint(\n",
    "        filepath=\"checkpoints/ckpt-loss={loss:.2f}\", save_freq=10000\n",
    "    )\n",
    "]\n",
    "model=CNN3D(cls_num=6)\n",
    "history=model.fit(\n",
    "    x=np.load(train_data_file,\"r\"),\n",
    "    y=np.load(train_target_file,\"r\"),\n",
    "    batch_size=64,epochs=30,callbacks=cb,\n",
    "    validation_data=(np.load(val_data_file,\"r\"),np.load(val_target_file,\"r\"))\n",
    ")\n",
    "\n",
    "save_model_dir=os.path.join(\"models\",csv_name+'_'+tc)\n",
    "save_model_name=\"m{}.h5\".format(time.strftime(\"%Y_%m_%d_%H_%M_%S\", time.localtime()))\n",
    "model.save(os.path.join(save_model_dir,save_model_name))\n",
    "model.save(\"./models/latest.h5\")\n"
   ]
  },
  {
   "cell_type": "code",
   "execution_count": 34,
   "metadata": {},
   "outputs": [
    {
     "name": "stdout",
     "output_type": "stream",
     "text": [
      "Epoch 1/2\n",
      "2/2 [==============================] - 10s 4s/step - loss: 1.9116 - sparse_categorical_accuracy: 0.1200 - val_loss: 1.9013 - val_sparse_categorical_accuracy: 0.0000e+00\n",
      "Epoch 2/2\n",
      "2/2 [==============================] - 6s 3s/step - loss: 1.9372 - sparse_categorical_accuracy: 0.1120 - val_loss: 1.9014 - val_sparse_categorical_accuracy: 0.0000e+00\n"
     ]
    }
   ],
   "source": [
    "### advanced learn\n",
    "from tensorflow.keras.models import load_model\n",
    "from tensorflow.keras import callbacks\n",
    "cb = [\n",
    "    callbacks.ModelCheckpoint(\n",
    "        filepath=\"checkpoints/ckpt-loss={loss:.2f}\", save_freq=10000\n",
    "    )\n",
    "]\n",
    "model=load_model(\"./models/latest.h5\")\n",
    "history=model.fit(\n",
    "    x=np.load(train_data_file,\"r\"),\n",
    "    y=np.load(train_target_file,\"r\"),\n",
    "    batch_size=64,epochs=20,callbacks=cb,\n",
    "    validation_data=(np.load(val_data_file,\"r\"),np.load(val_target_file,\"r\"))\n",
    ")\n",
    "\n",
    "save_model_dir=os.path.join(\"models\",csv_name+'_'+tc)\n",
    "save_model_name=\"m{}.h5\".format(time.strftime(\"%Y_%m_%d_%H_%M_%S\", time.localtime()))\n",
    "model.save(os.path.join(save_model_dir,save_model_name))\n",
    "model.save(\"./models/latest.h5\")"
   ]
  },
  {
   "cell_type": "code",
   "execution_count": 35,
   "metadata": {},
   "outputs": [
    {
     "name": "stdout",
     "output_type": "stream",
     "text": [
      "Test accuracy=0.3333333432674408\n"
     ]
    }
   ],
   "source": [
    "### Classify\n",
    "from tensorflow.keras import metrics\n",
    "from tensorflow.keras.models import load_model\n",
    "import os\n",
    "\n",
    "model=load_model(\"./models/latest.h5\")\n",
    "test_data_dir=\"datasets/A4/test\"\n",
    "test_data_file=os.path.join(test_data_dir,\"dataset.npy\")\n",
    "test_target_file=os.path.join(test_data_dir,\"target.npy\")\n",
    "\n",
    "x_test=np.load(test_data_file,\"r\")\n",
    "y_testtruth=np.load(test_target_file,\"r\")\n",
    "\n",
    "y_predit=model.predict(x_test)\n",
    "tot=metrics.sparse_categorical_accuracy(y_testtruth,y_predit)\n",
    "acc=sum(tot)/len(tot)\n",
    "print(\"Test accuracy={}\".format(acc.numpy()))\n"
   ]
  },
  {
   "cell_type": "code",
   "execution_count": 36,
   "metadata": {},
   "outputs": [
    {
     "name": "stderr",
     "output_type": "stream",
     "text": [
      "ipykernel_launcher:12: UserWarning: FixedFormatter should only be used together with FixedLocator\n",
      "ipykernel_launcher:13: UserWarning: FixedFormatter should only be used together with FixedLocator\n"
     ]
    },
    {
     "data": {
      "image/png": "[encoded data removed]",
      "text/plain": [
       "<Figure size 432x288 with 2 Axes>"
      ]
     },
     "metadata": {
      "needs_background": "light"
     },
     "output_type": "display_data"
    }
   ],
   "source": [
    "from sklearn.metrics import confusion_matrix\n",
    "import matplotlib.pylab as plt\n",
    "# ytarr,yparr=np.array(y_testtruth),np.array(y_predit)\n",
    "# print(y_predit)\n",
    "y_predit_lab=np.array([np.argmax(i)for i in y_predit])\n",
    "cm=confusion_matrix(y_testtruth, y_predit_lab,labels=range(len(labels)),normalize=\"all\")\n",
    "fig = plt.figure()\n",
    "ax = fig.add_subplot(111)\n",
    "cax = ax.matshow(cm)\n",
    "plt.title(f'Confusion matrix of {csv_name}: {tc}')\n",
    "fig.colorbar(cax)\n",
    "ax.set_xticklabels([''] + labels)\n",
    "ax.set_yticklabels([''] + labels)\n",
    "plt.xlabel('Predicted')\n",
    "plt.ylabel('True')\n",
    "plt.show()\n"
   ]
  },
  {
   "cell_type": "code",
   "execution_count": 12,
   "metadata": {},
   "outputs": [
    {
     "data": {
      "image/png": "[encoded data removed]",
      "text/plain": [
       "<Figure size 432x288 with 1 Axes>"
      ]
     },
     "metadata": {
      "needs_background": "light"
     },
     "output_type": "display_data"
    }
   ],
   "source": [
    "import numpy as np\n",
    "import matplotlib.pyplot as plt\n",
    "from itertools import cycle\n",
    "\n",
    "from sklearn import svm, datasets\n",
    "from sklearn.metrics import roc_curve, auc\n",
    "from sklearn.model_selection import train_test_split\n",
    "from sklearn.preprocessing import label_binarize\n",
    "from sklearn.multiclass import OneVsRestClassifier\n",
    "# from scipy import interp\n",
    "\n",
    "\n",
    "# ylabel=label_binarize(y_testp,classes=[0,1])\n",
    "# fpr = dict()\n",
    "# tpr = dict()\n",
    "# roc_auc = dict()\n",
    "# for i in range(2):\n",
    "fpr, tpr, _ = roc_curve(y_testtruth, y_predit[:, 1])\n",
    "roc_auc = auc(fpr, tpr)\n",
    "# fpr[0].shape==tpr[0].shape==(21, ), fpr[1].shape==tpr[1].shape==(35, ), fpr[2].shape==tpr[2].shape==(33, ) \n",
    "# roc_auc {0: 0.9118165784832452, 1: 0.6029629629629629, 2: 0.7859477124183007}\n",
    "\n",
    "plt.figure()\n",
    "lw = 2\n",
    "plt.plot(fpr, tpr, color='darkorange',\n",
    "         lw=lw, label='ROC curve (area = %0.2f)' % roc_auc)\n",
    "plt.plot([0, 1], [0, 1], color='navy', lw=lw, linestyle='--')\n",
    "plt.xlim([0.0, 1.0])\n",
    "plt.ylim([0.0, 1.05])\n",
    "plt.xlabel('False Positive Rate')\n",
    "plt.ylabel('True Positive Rate')\n",
    "# plt.title('Receiver operating characteristic example')\n",
    "plt.title(f'ROC of {csv_name}: {tc}')\n",
    "plt.legend(loc=\"lower right\")\n",
    "\n",
    "\n",
    "res_dir=\"result\"\n",
    "if not os.path.exists(res_dir):os.makedirs(res_dir)\n",
    "plt.savefig(os.path.join(res_dir,csv_name+\"_\"+tc))\n",
    "plt.show()"
   ]
  },
  {
   "cell_type": "code",
   "execution_count": 22,
   "metadata": {},
   "outputs": [
    {
     "name": "stdout",
     "output_type": "stream",
     "text": [
      "RMSE=71.8155746459961\n"
     ]
    }
   ],
   "source": [
    "### Regression\n",
    "from tensorflow.keras import metrics\n",
    "from tensorflow.keras.models import load_model\n",
    "import os\n",
    "\n",
    "model=load_model(\"./models/latest.h5\")\n",
    "test_data_dir=\"datasets/A4/test\"\n",
    "test_data_file=os.path.join(test_data_dir,\"dataset.npy\")\n",
    "test_target_file=os.path.join(test_data_dir,\"target.npy\")\n",
    "\n",
    "x_test=np.load(test_data_file,\"r\")\n",
    "y_testtruth=np.load(test_target_file,\"r\")\n",
    "\n",
    "y_predit=model.predict(x_test)\n",
    "tot=metrics.RootMeanSquaredError()(y_testtruth,y_predit)\n",
    "print(f\"RMSE={tot}\")\n",
    "# acc=sum(tot)/len(tot)\n",
    "# print(\"Test accuracy={}\".format(acc.numpy()))\n"
   ]
  },
  {
   "cell_type": "code",
   "execution_count": null,
   "metadata": {},
   "outputs": [],
   "source": []
  }
 ],
 "metadata": {
  "interpreter": {
   "hash": "55702b90ceafba54e3ad10b929c72d2322c4b2ddf39adb4363ed7efc5edc6583"
  },
  "kernelspec": {
   "display_name": "Python 3.7.9 64-bit ('mtf': conda)",
   "language": "python",
   "name": "python3"
  },
  "language_info": {
   "codemirror_mode": {
    "name": "ipython",
    "version": 3
   },
   "file_extension": ".py",
   "mimetype": "text/x-python",
   "name": "python",
   "nbconvert_exporter": "python",
   "pygments_lexer": "ipython3",
   "version": "3.7.11"
  },
  "orig_nbformat": 4
 },
 "nbformat": 4,
 "nbformat_minor": 2
}
