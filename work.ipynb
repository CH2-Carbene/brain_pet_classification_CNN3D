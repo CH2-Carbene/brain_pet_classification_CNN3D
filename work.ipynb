{
 "cells": [
  {
   "cell_type": "code",
   "execution_count": 1,
   "metadata": {},
   "outputs": [],
   "source": [
    "import sklearn\n",
    "import tensorflow as tf\n",
    "from tensorflow import keras\n",
    "from matplotlib import pylab as plt\n",
    "import numpy as np\n",
    "# import matplotlib #don't delete!"
   ]
  },
  {
   "cell_type": "code",
   "execution_count": 2,
   "metadata": {},
   "outputs": [
    {
     "data": {
      "image/png": "[encoded data removed]",
      "text/plain": [
       "<Figure size 576x576 with 3 Axes>"
      ]
     },
     "metadata": {
      "needs_background": "light"
     },
     "output_type": "display_data"
    },
    {
     "data": {
      "text/plain": [
       "(91, 109, 91)"
      ]
     },
     "execution_count": 2,
     "metadata": {},
     "output_type": "execute_result"
    }
   ],
   "source": [
    "from matplotlib import pylab as plt\n",
    "import nibabel as nib\n",
    "from nibabel.viewers import OrthoSlicer3D\n",
    "example_filename = \"./datasets/A4/A4_aligned/B10018169/Florbetapir/cmeanA4_B10018169_MR_Florbetapir_Br_20200720182306561_S893044_I1321166.nii.gz\"\n",
    " \n",
    "img = nib.load(example_filename)\n",
    "OrthoSlicer3D(img.dataobj).show()\n",
    "fdata=img.get_fdata()\n",
    "fdata.shape"
   ]
  },
  {
   "cell_type": "code",
   "execution_count": 1,
   "metadata": {},
   "outputs": [
    {
     "name": "stderr",
     "output_type": "stream",
     "text": [
      "  2%|▏         | 103/4492 [00:00<00:10, 429.02it/s]\n"
     ]
    },
    {
     "name": "stdout",
     "output_type": "stream",
     "text": [
      "Total data number:100\n",
      "unusable BID:['B11187381', 'B11238033', 'B11255389']\n"
     ]
    },
    {
     "name": "stderr",
     "output_type": "stream",
     "text": [
      "100%|██████████| 85/85 [00:08<00:00,  9.47it/s]\n"
     ]
    },
    {
     "name": "stdout",
     "output_type": "stream",
     "text": [
      "(425, 42, 50, 42)\n"
     ]
    },
    {
     "name": "stderr",
     "output_type": "stream",
     "text": [
      "100%|██████████| 5/5 [00:00<00:00, 23.62it/s]\n"
     ]
    },
    {
     "name": "stdout",
     "output_type": "stream",
     "text": [
      "(5, 42, 50, 42)\n"
     ]
    },
    {
     "name": "stderr",
     "output_type": "stream",
     "text": [
      "100%|██████████| 10/10 [00:00<00:00, 22.81it/s]"
     ]
    },
    {
     "name": "stdout",
     "output_type": "stream",
     "text": [
      "(10, 42, 50, 42)\n",
      "Train imgs: 85\n",
      "Val imgs: 5\n",
      "Test imgs: 10\n"
     ]
    },
    {
     "name": "stderr",
     "output_type": "stream",
     "text": [
      "\n"
     ]
    }
   ],
   "source": [
    "from dataloader.A4 import preprocess_save_img,load_data\n",
    "from sklearn.model_selection import train_test_split,KFold\n",
    "\n",
    "x=load_data(\"A4_PETVADATA_PRV2.csv\",max_size=50)\n",
    "# pre_fy=lambda y:1 if y==\"positive\" else 0\n",
    "# dataset=(x,y)\n",
    "x_train,x_test=train_test_split(\n",
    "    x,test_size=0.1,random_state=1919810\n",
    ")\n",
    "x_train,x_val=train_test_split(\n",
    "    x_train,test_size=0.05,random_state=114514\n",
    ")\n",
    "\n",
    "train_data_dir=\"datasets/A4/train\"\n",
    "val_data_dir=\"datasets/A4/val\"\n",
    "test_data_dir=\"datasets/A4/test\"\n",
    "\n",
    "train_data_file=preprocess_save_img(x_train,train_data_dir,4)\n",
    "val_data_file=preprocess_save_img(x_val,val_data_dir)\n",
    "test_data_file=preprocess_save_img(x_test,test_data_dir)\n",
    "\n",
    "# train_d,val_d,test_d=(\n",
    "#     A4Dataset_train(x_train,y_train,ag_rate=4,batch_size=64,pre_fy=pre_fy),\n",
    "#     A4Dataset_test(x_val,y_val,batch_size=64,pre_fy=pre_fy),\n",
    "#     A4Dataset_test(x_test,y_test,batch_size=64,pre_fy=pre_fy)\n",
    "# )\n",
    "\n",
    "print(\"Train imgs:\",len(x_train))\n",
    "print(\"Val imgs:\",len(x_val))\n",
    "print(\"Test imgs:\",len(x_test))\n",
    "\n",
    "# kf = KFold(n_splits=10)"
   ]
  },
  {
   "cell_type": "code",
   "execution_count": 2,
   "metadata": {},
   "outputs": [
    {
     "name": "stdout",
     "output_type": "stream",
     "text": [
      "(425,)\n",
      "(5,)\n",
      "(10,)\n"
     ]
    }
   ],
   "source": [
    "### make target data\n",
    "from dataloader.A4 import preprocess_save_target\n",
    "d={\n",
    "    \"csv_name\":\"A4_PETVADATA_PRV2.csv\",\n",
    "    \"target_column\":\"SCORE\",\n",
    "    \"prefunc\":lambda x:1 if x[0]==\"p\"else 0\n",
    "}\n",
    "train_target_file=preprocess_save_target(train_data_dir,**d)\n",
    "val_target_file=preprocess_save_target(val_data_dir,**d)\n",
    "test_target_file=preprocess_save_target(test_data_dir,**d)\n"
   ]
  },
  {
   "cell_type": "code",
   "execution_count": 4,
   "metadata": {},
   "outputs": [
    {
     "name": "stdout",
     "output_type": "stream",
     "text": [
      "Epoch 1/2\n",
      "7/7 [==============================] - 26s 3s/step - loss: 0.7749 - sparse_categorical_accuracy: 0.4212 - val_loss: 0.6960 - val_sparse_categorical_accuracy: 0.2000\n",
      "Epoch 2/2\n",
      "7/7 [==============================] - 24s 3s/step - loss: 0.7816 - sparse_categorical_accuracy: 0.4047 - val_loss: 0.6964 - val_sparse_categorical_accuracy: 0.2000\n"
     ]
    }
   ],
   "source": [
    "from tensorflow.keras import callbacks\n",
    "import matplotlib.pyplot as plt\n",
    "import numpy as np\n",
    "import time\n",
    "from units.model import CNN3D\n",
    "\n",
    "cb = [\n",
    "    callbacks.ModelCheckpoint(\n",
    "        filepath=\"checkpoints/ckpt-loss={loss:.2f}\", save_freq=10000\n",
    "    )\n",
    "]\n",
    "model=CNN3D()\n",
    "history=model.fit(\n",
    "    x=np.load(train_data_file,\"r\"),\n",
    "    y=np.load(train_target_file,\"r\"),\n",
    "    batch_size=64,epochs=30,callbacks=cb,\n",
    "    validation_data=(np.load(val_data_file,\"r\"),np.load(val_target_file,\"r\"))\n",
    ")\n",
    "\n",
    "model.save(\"./models/m{}.h5\".format(time.strftime(\"%Y_%m_%d_%H_%M_%S\", time.localtime())))\n",
    "model.save(\"./models/latest.h5\")\n",
    "\n",
    "# plt.plot(history.history['acc'])\n",
    "# plt.plot(history.history['val_acc'])\n",
    "# plt.title('Model accuracy')\n",
    "# plt.ylabel('Accuracy')\n",
    "# plt.xlabel('Epoch')\n",
    "# plt.legend(['Train', 'Test'], loc='upper left')\n",
    "# plt.show()"
   ]
  },
  {
   "cell_type": "code",
   "execution_count": 5,
   "metadata": {},
   "outputs": [
    {
     "name": "stdout",
     "output_type": "stream",
     "text": [
      "Epoch 1/2\n",
      "7/7 [==============================] - 27s 4s/step - loss: 0.7473 - sparse_categorical_accuracy: 0.4518 - val_loss: 0.6963 - val_sparse_categorical_accuracy: 0.2000\n",
      "Epoch 2/2\n",
      "7/7 [==============================] - 26s 4s/step - loss: 0.7499 - sparse_categorical_accuracy: 0.4235 - val_loss: 0.6948 - val_sparse_categorical_accuracy: 0.4000\n"
     ]
    }
   ],
   "source": [
    "### advanced learn\n",
    "from tensorflow.keras.models import load_model\n",
    "from tensorflow.keras import callbacks\n",
    "cb = [\n",
    "    callbacks.ModelCheckpoint(\n",
    "        filepath=\"checkpoints/ckpt-loss={loss:.2f}\", save_freq=10000\n",
    "    )\n",
    "]\n",
    "model=load_model(\"./models/latest.h5\")\n",
    "history=model.fit(\n",
    "    x=np.load(train_data_file,\"r\"),\n",
    "    y=np.load(train_target_file,\"r\"),\n",
    "    batch_size=64,epochs=30,callbacks=cb,\n",
    "    validation_data=(np.load(val_data_file,\"r\"),np.load(val_target_file,\"r\"))\n",
    ")\n",
    "\n",
    "model.save(\"./models/m{}.h5\".format(time.strftime(\"%Y_%m_%d_%H_%M_%S\", time.localtime())))\n",
    "model.save(\"./models/latest.h5\")"
   ]
  },
  {
   "cell_type": "code",
   "execution_count": 7,
   "metadata": {},
   "outputs": [
    {
     "name": "stdout",
     "output_type": "stream",
     "text": [
      "Test accuracy=0.4000000059604645\n"
     ]
    }
   ],
   "source": [
    "from tensorflow.keras import metrics\n",
    "from tensorflow.keras.models import load_model\n",
    "import os\n",
    "\n",
    "model=load_model(\"./models/latest.h5\")\n",
    "test_data_dir=\"datasets/A4/test\"\n",
    "test_data_file=os.path.join(test_data_dir,\"dataset.npy\")\n",
    "test_target_file=os.path.join(test_data_dir,\"target.npy\")\n",
    "\n",
    "x_test=np.load(test_data_file,\"r\")\n",
    "y_testtruth=np.load(test_target_file,\"r\")\n",
    "\n",
    "y_predit=model.predict(x_test)\n",
    "tot=metrics.sparse_categorical_accuracy(y_testtruth,y_predit)\n",
    "acc=sum(tot)/len(tot)\n",
    "print(\"Test accuracy={}\".format(acc.numpy()))\n"
   ]
  },
  {
   "cell_type": "code",
   "execution_count": 8,
   "metadata": {},
   "outputs": [
    {
     "data": {
      "image/png": "[encoded data removed]",
      "text/plain": [
       "<Figure size 432x288 with 1 Axes>"
      ]
     },
     "metadata": {
      "needs_background": "light"
     },
     "output_type": "display_data"
    }
   ],
   "source": [
    "import numpy as np\n",
    "import matplotlib.pyplot as plt\n",
    "from itertools import cycle\n",
    "\n",
    "from sklearn import svm, datasets\n",
    "from sklearn.metrics import roc_curve, auc\n",
    "from sklearn.model_selection import train_test_split\n",
    "from sklearn.preprocessing import label_binarize\n",
    "from sklearn.multiclass import OneVsRestClassifier\n",
    "# from scipy import interp\n",
    "\n",
    "\n",
    "# ylabel=label_binarize(y_testp,classes=[0,1])\n",
    "# fpr = dict()\n",
    "# tpr = dict()\n",
    "# roc_auc = dict()\n",
    "# for i in range(2):\n",
    "fpr, tpr, _ = roc_curve(y_testtruth, y_predit[:, 1])\n",
    "roc_auc = auc(fpr, tpr)\n",
    "# fpr[0].shape==tpr[0].shape==(21, ), fpr[1].shape==tpr[1].shape==(35, ), fpr[2].shape==tpr[2].shape==(33, ) \n",
    "# roc_auc {0: 0.9118165784832452, 1: 0.6029629629629629, 2: 0.7859477124183007}\n",
    "\n",
    "plt.figure()\n",
    "lw = 2\n",
    "plt.plot(fpr, tpr, color='darkorange',\n",
    "         lw=lw, label='ROC curve (area = %0.2f)' % roc_auc)\n",
    "plt.plot([0, 1], [0, 1], color='navy', lw=lw, linestyle='--')\n",
    "plt.xlim([0.0, 1.0])\n",
    "plt.ylim([0.0, 1.05])\n",
    "plt.xlabel('False Positive Rate')\n",
    "plt.ylabel('True Positive Rate')\n",
    "# plt.title('Receiver operating characteristic example')\n",
    "plt.title('ROC of Score')\n",
    "plt.legend(loc=\"lower right\")\n",
    "plt.show()\n"
   ]
  },
  {
   "cell_type": "code",
   "execution_count": null,
   "metadata": {},
   "outputs": [],
   "source": []
  }
 ],
 "metadata": {
  "interpreter": {
   "hash": "55702b90ceafba54e3ad10b929c72d2322c4b2ddf39adb4363ed7efc5edc6583"
  },
  "kernelspec": {
   "display_name": "Python 3.7.9 64-bit ('mtf': conda)",
   "language": "python",
   "name": "python3"
  },
  "language_info": {
   "codemirror_mode": {
    "name": "ipython",
    "version": 3
   },
   "file_extension": ".py",
   "mimetype": "text/x-python",
   "name": "python",
   "nbconvert_exporter": "python",
   "pygments_lexer": "ipython3",
   "version": "3.6.9"
  },
  "orig_nbformat": 4
 },
 "nbformat": 4,
 "nbformat_minor": 2
}
