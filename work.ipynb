{
 "cells": [
  {
   "cell_type": "code",
   "execution_count": 13,
   "metadata": {},
   "outputs": [],
   "source": [
    "# import matplotlib as plt\n",
    "import tensorflow as tf\n",
    "import sklearn\n",
    "# import nibabel as nib"
   ]
  },
  {
   "cell_type": "code",
   "execution_count": 14,
   "metadata": {},
   "outputs": [
    {
     "name": "stdout",
     "output_type": "stream",
     "text": [
      "Model: \"model_2\"\n",
      "________________________________________________________________________________________________________________________\n",
      "Layer (type)                           Output Shape               Param #       Connected to                            \n",
      "========================================================================================================================\n",
      "input_3 (InputLayer)                   [(None, 42, 50, 42, 1)]    0                                                     \n",
      "________________________________________________________________________________________________________________________\n",
      "sequential_38 (Sequential)             (None, 20, 24, 20, 15)     6570          input_3[0][0]                           \n",
      "________________________________________________________________________________________________________________________\n",
      "sequential_41 (Sequential)             (None, 20, 24, 20, 15)     12240         sequential_38[0][0]                     \n",
      "________________________________________________________________________________________________________________________\n",
      "concatenate_6 (Concatenate)            (None, 20, 24, 20, 30)     0             sequential_41[0][0]                     \n",
      "                                                                                sequential_38[0][0]                     \n",
      "________________________________________________________________________________________________________________________\n",
      "sequential_45 (Sequential)             (None, 10, 12, 10, 25)     37395         concatenate_6[0][0]                     \n",
      "________________________________________________________________________________________________________________________\n",
      "conv3d_30 (Conv3D)                     (None, 10, 12, 10, 15)     12165         concatenate_6[0][0]                     \n",
      "________________________________________________________________________________________________________________________\n",
      "concatenate_7 (Concatenate)            (None, 10, 12, 10, 40)     0             sequential_45[0][0]                     \n",
      "                                                                                conv3d_30[0][0]                         \n",
      "________________________________________________________________________________________________________________________\n",
      "sequential_49 (Sequential)             (None, 5, 6, 5, 35)        71245         concatenate_7[0][0]                     \n",
      "________________________________________________________________________________________________________________________\n",
      "conv3d_33 (Conv3D)                     (None, 5, 6, 5, 25)        27025         concatenate_7[0][0]                     \n",
      "________________________________________________________________________________________________________________________\n",
      "concatenate_8 (Concatenate)            (None, 5, 6, 5, 60)        0             sequential_49[0][0]                     \n",
      "                                                                                conv3d_33[0][0]                         \n",
      "________________________________________________________________________________________________________________________\n",
      "sequential_51 (Sequential)             (None, 1, 2, 1, 30)        73200         concatenate_8[0][0]                     \n",
      "________________________________________________________________________________________________________________________\n",
      "sequential_52 (Sequential)             (None, 2)                  33452         sequential_51[0][0]                     \n",
      "________________________________________________________________________________________________________________________\n",
      "softmax_2 (Softmax)                    (None, 2)                  0             sequential_52[0][0]                     \n",
      "========================================================================================================================\n",
      "Total params: 273,292\n",
      "Trainable params: 272,852\n",
      "Non-trainable params: 440\n",
      "________________________________________________________________________________________________________________________\n",
      "('You must install pydot (`pip install pydot`) and install graphviz (see instructions at https://graphviz.gitlab.io/download/) ', 'for plot_model/model_to_dot to work.')\n"
     ]
    }
   ],
   "source": [
    "import tensorflow as tf\n",
    "from tensorflow.keras import utils\n",
    "from tensorflow.keras import Input,Model,Sequential\n",
    "from tensorflow.keras import layers,optimizers,losses,metrics\n",
    "# model=keras.Sequential()\n",
    "# model.add(layers.InputLayer(input_shape=(50,42,42,1)))\n",
    "def getmodel():\n",
    "\n",
    "    #conv3d\n",
    "    def Conv3D_U(channel):\n",
    "        return layers.Conv3D(channel,3,padding='same')\n",
    "\n",
    "    #BN+activate(relu)\n",
    "    def BN_AC():\n",
    "        return Sequential([\n",
    "            layers.BatchNormalization(),\n",
    "            layers.Activation(\"relu\"),\n",
    "        ])\n",
    "\n",
    "    #conv3d+BatchNormalization\n",
    "    def Conv3D_BN(channel,dp_rate=0):\n",
    "        return Sequential([\n",
    "            Conv3D_U(channel),\n",
    "            BN_AC(),\n",
    "            layers.Dropout(dp_rate),\n",
    "        ])\n",
    "\n",
    "    #Conv3D_Pooling1\n",
    "    def Conv3D_P1(channel):\n",
    "        return layers.Conv3D(channel,3,strides=(2,2,2))\n",
    "    #Conv3D_Pooling2\n",
    "    def Conv3D_P2(channel):\n",
    "        return layers.Conv3D(channel,3,strides=(2,2,2),padding='same')\n",
    "    #Conv3D_Pooling+BatchNormalization\n",
    "    # why dropout before BatchNormalization?\n",
    "    def Conv3D_PBN(channel,dp_rate=0):\n",
    "        return Sequential([\n",
    "            Conv3D_P2(channel),\n",
    "            layers.Dropout(dp_rate),\n",
    "            BN_AC()\n",
    "        ])\n",
    "\n",
    "    def Merge():\n",
    "        return layers.Concatenate()\n",
    "    def Liner(units,activation=None):\n",
    "        return layers.Dense(units,activation=activation)\n",
    "### network blocks\n",
    "    L0=Sequential([\n",
    "        Conv3D_BN(15),\n",
    "        Conv3D_P1(15)\n",
    "    ])\n",
    "\n",
    "    L1=Sequential([\n",
    "        Conv3D_BN(15,0.2),\n",
    "        Conv3D_U(15)\n",
    "    ])\n",
    "    M1=Merge()\n",
    "\n",
    "    L2=Sequential([\n",
    "        BN_AC(),\n",
    "        Conv3D_PBN(25,0.2),\n",
    "        Conv3D_U(25)\n",
    "    ])\n",
    "    R2=Conv3D_P2(15)\n",
    "    M2=Merge()\n",
    "\n",
    "    L3=Sequential([\n",
    "        BN_AC(),\n",
    "        Conv3D_PBN(35,0.2),\n",
    "        Conv3D_U(35)\n",
    "    ])\n",
    "    R3=Conv3D_P2(25)\n",
    "    M3=Merge()\n",
    "    \n",
    "    L4=Sequential([\n",
    "        BN_AC(),\n",
    "        layers.Conv3D(30,3,padding='valid'),\n",
    "        layers.Conv3D(30,3,padding='valid')\n",
    "    ])\n",
    "\n",
    "    FC=Sequential([\n",
    "        layers.Flatten(),\n",
    "        Liner(300,'relu'),\n",
    "        layers.Dropout(0.2),\n",
    "        Liner(50,'relu'),\n",
    "        Liner(2)\n",
    "    ])\n",
    "    CLF=layers.Softmax()\n",
    "\n",
    "### network constructure\n",
    "    inputs = Input(shape=(42,50,42,1), dtype='float32')\n",
    "\n",
    "    with tf.name_scope('Block0'):\n",
    "        l0_out=L0(inputs)\n",
    "    with tf.name_scope('Block1'):\n",
    "        l1_x=L1(l0_out)\n",
    "        l1_y=l0_out\n",
    "        l1_out=M1([l1_x,l1_y])\n",
    "    with tf.name_scope('Block2'):\n",
    "        l2_x=L2(l1_out)\n",
    "        l2_y=R2(l1_out)\n",
    "        l2_out=M2([l2_x,l2_y])\n",
    "    with tf.name_scope('Block3'):\n",
    "        l3_x=L3(l2_out)\n",
    "        l3_y=R3(l2_out)\n",
    "        l3_out=M3([l3_x,l3_y])\n",
    "    with tf.name_scope('Block4'):\n",
    "        l4_x=L4(l3_out)\n",
    "    with tf.name_scope('FC'):\n",
    "        lfc=FC(l4_x)\n",
    "\n",
    "    outputs=CLF(lfc)\n",
    "\n",
    "    opt=optimizers.Adadelta()\n",
    "    loss_func=losses.SparseCategoricalCrossentropy()\n",
    "    metric=[metrics.SparseCategoricalAccuracy()]\n",
    "\n",
    "    model=Model(inputs=inputs, outputs=outputs)\n",
    "    model.compile(optimizer=opt,loss=loss_func,metrics=metric)\n",
    "    return model\n",
    "# keras.layers.Concatenate()\n",
    "model=getmodel()\n",
    "model.summary(line_length=120)\n",
    "utils.plot_model(model, \"myCNN3D.png\", show_shapes=True)\n"
   ]
  },
  {
   "cell_type": "code",
   "execution_count": 15,
   "metadata": {},
   "outputs": [
    {
     "data": {
      "text/plain": [
       "1188.4431195710995"
      ]
     },
     "execution_count": 15,
     "metadata": {},
     "output_type": "execute_result"
    }
   ],
   "source": [
    "from matplotlib import pylab as plt\n",
    "import nibabel as nib\n",
    "from nibabel.viewers import OrthoSlicer3D\n",
    "example_filename = \"./datasets/A4/A4_aligned/B10018169/Florbetapir/cmeanA4_B10018169_MR_Florbetapir_Br_20200720182306561_S893044_I1321166.nii.gz\"\n",
    " \n",
    "img = nib.load(example_filename)\n",
    "# OrthoSlicer3D(img.dataobj).show()\n",
    "fdata=img.get_fdata()\n",
    "fdata.shape\n",
    "fdata.mean()"
   ]
  },
  {
   "cell_type": "code",
   "execution_count": 16,
   "metadata": {},
   "outputs": [
    {
     "name": "stdout",
     "output_type": "stream",
     "text": [
      "[Errno 2] No such file or directory: 'datasets/A4/A4_aligned/B38895224/Florbetapir/'\n",
      "[Errno 2] No such file or directory: 'datasets/A4/A4_aligned/B49205929/Florbetapir/'\n",
      "[Errno 2] No such file or directory: 'datasets/A4/A4_aligned/B53208294/Florbetapir/'\n",
      "[Errno 2] No such file or directory: 'datasets/A4/A4_aligned/B84981344/Florbetapir/'\n",
      "[Errno 2] No such file or directory: 'datasets/A4/A4_aligned/B93762493/Florbetapir/'\n",
      "[Errno 2] No such file or directory: 'datasets/A4/A4_aligned/B95412218/Florbetapir/'\n",
      "[Errno 2] No such file or directory: 'datasets/A4/A4_aligned/B99870985/Florbetapir/'\n"
     ]
    }
   ],
   "source": [
    "import pandas as pd\n",
    "import nibabel as nib\n",
    "import os\n",
    "df=pd.read_csv(\"datasets/A4/document/A4_PETVADATA_PRV2.csv\")\n",
    "unusable=[]\n",
    "x,y=[],[]\n",
    "maxnum=-1\n",
    "for i,(bid,score) in enumerate(zip(df.BID,df.SCORE)):\n",
    "    if i==maxnum:break\n",
    "    try:\n",
    "        dirname=\"datasets/A4/A4_aligned/{}/Florbetapir/\".format(bid)\n",
    "        filelist=os.listdir(dirname)\n",
    "        filename=None\n",
    "        # print(filelist)\n",
    "        # input()\n",
    "        for t_fname in filelist:\n",
    "            if not '(' in t_fname: filename=t_fname\n",
    "        # filename=filelist[0]\n",
    "        if filename is None:\n",
    "            raise \"BID_{}:file not found!\".format(bid)\n",
    "        ngz=nib.load(os.path.join(dirname,filename))\n",
    "        x.append(ngz.get_fdata())\n",
    "        y.append(score)\n",
    "    except Exception as e:\n",
    "        unusable.append(bid)\n",
    "        print(e)\n",
    "        # print(\"BID_{} unusable.\".format(id))\n",
    "dataset=(x,y)"
   ]
  },
  {
   "cell_type": "code",
   "execution_count": 59,
   "metadata": {},
   "outputs": [],
   "source": [
    "### data augmentation & preprocessing\n",
    "from tensorflow.keras import Sequential,layers\n",
    "#augmentation (don't do like this!)\n",
    "data_augmentation=Sequential([\n",
    "    # layers.RandomFlip(\"horizontal\"),\n",
    "    layers.RandomRotation(0.1),\n",
    "    layers.RandomZoom(0.05),\n",
    "])\n",
    "#preprocess(wrong code)\n",
    "data_preprocess=Sequential([\n",
    "    layers.BatchNormalization(),# not bn in training\n",
    "    # layers.experimental.preprocessing.Resizing()\n",
    "])"
   ]
  },
  {
   "cell_type": "code",
   "execution_count": 60,
   "metadata": {},
   "outputs": [],
   "source": [
    "from tensorflow import keras\n",
    "from sklearn.model_selection import train_test_split,KFold\n",
    "x_train,x_test,y_train,y_test=train_test_split(\n",
    "    dataset[0],dataset[1],test_size=0.1,random_state=1919810\n",
    ")\n",
    "kf = KFold(n_splits=10)"
   ]
  },
  {
   "cell_type": "code",
   "execution_count": 68,
   "metadata": {},
   "outputs": [],
   "source": [
    "import scipy\n",
    "import numpy as np\n",
    "import warnings\n",
    "warnings.filterwarnings('error')\n",
    "# data_preprocess(x_train,y_train)\n",
    "def ndresize(x):\n",
    "    orisize=np.array(x.shape)\n",
    "    tgsize=np.array((42,50,42))\n",
    "    return scipy.ndimage.zoom(x,tgsize/orisize,order=1)\n",
    "def normalize(x):\n",
    "    # if x.std()<1e-8:raise Exception(\"div0!\")\n",
    "    return (x-x.mean())/x.std()\n",
    "def random_padcut3d(x,rate):\n",
    "    # dim=len(x.shape)\n",
    "    pc=(x.shape*np.random.uniform(-rate/2.,rate/2.,size=(3))).astype(np.int32)\n",
    "    pad=np.maximum(0,pc)\n",
    "    # pad=np.max(np.array((0),dtype=np.int32),pc)\n",
    "    cut=np.minimum(0,pc)\n",
    "    cut=tuple([slice(None,None) if c==0 else slice(-c,c) for c in cut])\n",
    "    \n",
    "    x=np.pad(x,((pad[0],pad[0]),(pad[1],pad[1]),(pad[2],pad[2])))\n",
    "    x=x[cut]\n",
    "    # len(x.shape)\n",
    "    # dtlist=[np.pad]\n",
    "    return x\n",
    "def train_preprocess(x,y,agrate=5):\n",
    "    try:\n",
    "        x=np.array(x)\n",
    "        x=normalize(x)\n",
    "        xlist=[]\n",
    "        for i in range(agrate):\n",
    "            x=random_padcut3d(x,0.15)\n",
    "            x=ndresize(x)\n",
    "            xlist.append(x)\n",
    "        x=xlist\n",
    "        y=[0 if y[0]==\"n\"else 1]*agrate\n",
    "        return x,y\n",
    "    except Exception as w:\n",
    "        print(w)\n",
    "        return [],[]\n",
    "\n",
    "def test_preprocess(x,y):\n",
    "    try:\n",
    "        x=np.array(x)\n",
    "        x=normalize(x)\n",
    "        xlist=[]\n",
    "        x=ndresize(x)\n",
    "        xlist.append(x)\n",
    "        x=xlist\n",
    "        y=[0 if y[0]==\"n\"else 1]\n",
    "        return x,y\n",
    "    except Exception as w:\n",
    "        print(w)\n",
    "        return [],[]"
   ]
  },
  {
   "cell_type": "code",
   "execution_count": 63,
   "metadata": {},
   "outputs": [
    {
     "name": "stderr",
     "output_type": "stream",
     "text": [
      "79it [00:03, 27.24it/s]"
     ]
    },
    {
     "name": "stdout",
     "output_type": "stream",
     "text": [
      "invalid value encountered in true_divide\n"
     ]
    },
    {
     "name": "stderr",
     "output_type": "stream",
     "text": [
      "248it [00:09, 26.87it/s]"
     ]
    },
    {
     "name": "stdout",
     "output_type": "stream",
     "text": [
      "invalid value encountered in true_divide\n"
     ]
    },
    {
     "name": "stderr",
     "output_type": "stream",
     "text": [
      "345it [00:13, 25.24it/s]"
     ]
    },
    {
     "name": "stdout",
     "output_type": "stream",
     "text": [
      "invalid value encountered in true_divide\n"
     ]
    },
    {
     "name": "stderr",
     "output_type": "stream",
     "text": [
      "366it [00:14, 24.63it/s]"
     ]
    },
    {
     "name": "stdout",
     "output_type": "stream",
     "text": [
      "invalid value encountered in true_divide\n"
     ]
    },
    {
     "name": "stderr",
     "output_type": "stream",
     "text": [
      "436it [00:17, 24.51it/s]"
     ]
    },
    {
     "name": "stdout",
     "output_type": "stream",
     "text": [
      "invalid value encountered in true_divide\n"
     ]
    },
    {
     "name": "stderr",
     "output_type": "stream",
     "text": [
      "452it [00:18, 25.88it/s]"
     ]
    },
    {
     "name": "stdout",
     "output_type": "stream",
     "text": [
      "invalid value encountered in true_divide\n"
     ]
    },
    {
     "name": "stderr",
     "output_type": "stream",
     "text": [
      "537it [00:22, 24.68it/s]"
     ]
    },
    {
     "name": "stdout",
     "output_type": "stream",
     "text": [
      "invalid value encountered in true_divide\n"
     ]
    },
    {
     "name": "stderr",
     "output_type": "stream",
     "text": [
      "568it [00:23, 25.27it/s]"
     ]
    },
    {
     "name": "stdout",
     "output_type": "stream",
     "text": [
      "invalid value encountered in true_divide\n"
     ]
    },
    {
     "name": "stderr",
     "output_type": "stream",
     "text": [
      "719it [00:29, 25.80it/s]"
     ]
    },
    {
     "name": "stdout",
     "output_type": "stream",
     "text": [
      "invalid value encountered in true_divide\n"
     ]
    },
    {
     "name": "stderr",
     "output_type": "stream",
     "text": [
      "756it [00:30, 26.72it/s]"
     ]
    },
    {
     "name": "stdout",
     "output_type": "stream",
     "text": [
      "invalid value encountered in true_divide\n"
     ]
    },
    {
     "name": "stderr",
     "output_type": "stream",
     "text": [
      "826it [00:33, 25.97it/s]"
     ]
    },
    {
     "name": "stdout",
     "output_type": "stream",
     "text": [
      "invalid value encountered in true_divide\n"
     ]
    },
    {
     "name": "stderr",
     "output_type": "stream",
     "text": [
      "878it [00:35, 25.83it/s]"
     ]
    },
    {
     "name": "stdout",
     "output_type": "stream",
     "text": [
      "invalid value encountered in true_divide\n"
     ]
    },
    {
     "name": "stderr",
     "output_type": "stream",
     "text": [
      "888it [00:36, 26.81it/s]"
     ]
    },
    {
     "name": "stdout",
     "output_type": "stream",
     "text": [
      "invalid value encountered in true_divide\n"
     ]
    },
    {
     "name": "stderr",
     "output_type": "stream",
     "text": [
      "925it [00:37, 25.34it/s]"
     ]
    },
    {
     "name": "stdout",
     "output_type": "stream",
     "text": [
      "invalid value encountered in true_divide\n"
     ]
    },
    {
     "name": "stderr",
     "output_type": "stream",
     "text": [
      "944it [00:38, 25.84it/s]"
     ]
    },
    {
     "name": "stdout",
     "output_type": "stream",
     "text": [
      "invalid value encountered in true_divide\n"
     ]
    },
    {
     "name": "stderr",
     "output_type": "stream",
     "text": [
      "954it [00:38, 26.98it/s]"
     ]
    },
    {
     "name": "stdout",
     "output_type": "stream",
     "text": [
      "invalid value encountered in true_divide\n"
     ]
    },
    {
     "name": "stderr",
     "output_type": "stream",
     "text": [
      "1030it [00:42, 26.08it/s]"
     ]
    },
    {
     "name": "stdout",
     "output_type": "stream",
     "text": [
      "invalid value encountered in true_divide\n"
     ]
    },
    {
     "name": "stderr",
     "output_type": "stream",
     "text": [
      "1055it [00:43, 26.18it/s]"
     ]
    },
    {
     "name": "stdout",
     "output_type": "stream",
     "text": [
      "invalid value encountered in true_divide\n"
     ]
    },
    {
     "name": "stderr",
     "output_type": "stream",
     "text": [
      "1173it [00:47, 26.31it/s]"
     ]
    },
    {
     "name": "stdout",
     "output_type": "stream",
     "text": [
      "invalid value encountered in true_divide\n"
     ]
    },
    {
     "name": "stderr",
     "output_type": "stream",
     "text": [
      "1582it [01:04, 25.58it/s]"
     ]
    },
    {
     "name": "stdout",
     "output_type": "stream",
     "text": [
      "invalid value encountered in true_divide\n"
     ]
    },
    {
     "name": "stderr",
     "output_type": "stream",
     "text": [
      "1706it [01:09, 26.28it/s]"
     ]
    },
    {
     "name": "stdout",
     "output_type": "stream",
     "text": [
      "invalid value encountered in true_divide\n"
     ]
    },
    {
     "name": "stderr",
     "output_type": "stream",
     "text": [
      "1772it [01:12, 25.66it/s]"
     ]
    },
    {
     "name": "stdout",
     "output_type": "stream",
     "text": [
      "invalid value encountered in true_divide\n"
     ]
    },
    {
     "name": "stderr",
     "output_type": "stream",
     "text": [
      "1821it [01:14, 26.39it/s]"
     ]
    },
    {
     "name": "stdout",
     "output_type": "stream",
     "text": [
      "invalid value encountered in true_divide\n"
     ]
    },
    {
     "name": "stderr",
     "output_type": "stream",
     "text": [
      "1866it [01:16, 25.24it/s]"
     ]
    },
    {
     "name": "stdout",
     "output_type": "stream",
     "text": [
      "invalid value encountered in true_divide\n"
     ]
    },
    {
     "name": "stderr",
     "output_type": "stream",
     "text": [
      "1933it [01:19, 25.92it/s]"
     ]
    },
    {
     "name": "stdout",
     "output_type": "stream",
     "text": [
      "invalid value encountered in true_divide\n"
     ]
    },
    {
     "name": "stderr",
     "output_type": "stream",
     "text": [
      "2120it [01:26, 25.77it/s]"
     ]
    },
    {
     "name": "stdout",
     "output_type": "stream",
     "text": [
      "invalid value encountered in true_divide\n"
     ]
    },
    {
     "name": "stderr",
     "output_type": "stream",
     "text": [
      "2154it [01:28, 26.19it/s]"
     ]
    },
    {
     "name": "stdout",
     "output_type": "stream",
     "text": [
      "invalid value encountered in true_divide\n",
      "invalid value encountered in true_divide\n"
     ]
    },
    {
     "name": "stderr",
     "output_type": "stream",
     "text": [
      "2354it [01:36, 26.54it/s]"
     ]
    },
    {
     "name": "stdout",
     "output_type": "stream",
     "text": [
      "invalid value encountered in true_divide\n"
     ]
    },
    {
     "name": "stderr",
     "output_type": "stream",
     "text": [
      "2472it [01:40, 26.25it/s]"
     ]
    },
    {
     "name": "stdout",
     "output_type": "stream",
     "text": [
      "invalid value encountered in true_divide\n"
     ]
    },
    {
     "name": "stderr",
     "output_type": "stream",
     "text": [
      "2575it [01:44, 25.24it/s]"
     ]
    },
    {
     "name": "stdout",
     "output_type": "stream",
     "text": [
      "invalid value encountered in true_divide\n"
     ]
    },
    {
     "name": "stderr",
     "output_type": "stream",
     "text": [
      "2636it [01:47, 26.55it/s]"
     ]
    },
    {
     "name": "stdout",
     "output_type": "stream",
     "text": [
      "invalid value encountered in true_divide\n"
     ]
    },
    {
     "name": "stderr",
     "output_type": "stream",
     "text": [
      "2688it [01:49, 26.71it/s]"
     ]
    },
    {
     "name": "stdout",
     "output_type": "stream",
     "text": [
      "invalid value encountered in true_divide\n"
     ]
    },
    {
     "name": "stderr",
     "output_type": "stream",
     "text": [
      "2848it [01:55, 26.91it/s]"
     ]
    },
    {
     "name": "stdout",
     "output_type": "stream",
     "text": [
      "invalid value encountered in true_divide\n"
     ]
    },
    {
     "name": "stderr",
     "output_type": "stream",
     "text": [
      "3002it [02:02, 25.62it/s]"
     ]
    },
    {
     "name": "stdout",
     "output_type": "stream",
     "text": [
      "invalid value encountered in true_divide\n"
     ]
    },
    {
     "name": "stderr",
     "output_type": "stream",
     "text": [
      "3066it [02:04, 26.76it/s]"
     ]
    },
    {
     "name": "stdout",
     "output_type": "stream",
     "text": [
      "invalid value encountered in true_divide\n"
     ]
    },
    {
     "name": "stderr",
     "output_type": "stream",
     "text": [
      "3160it [02:08, 26.60it/s]"
     ]
    },
    {
     "name": "stdout",
     "output_type": "stream",
     "text": [
      "invalid value encountered in true_divide\n"
     ]
    },
    {
     "name": "stderr",
     "output_type": "stream",
     "text": [
      "3185it [02:09, 27.33it/s]"
     ]
    },
    {
     "name": "stdout",
     "output_type": "stream",
     "text": [
      "invalid value encountered in true_divide\n"
     ]
    },
    {
     "name": "stderr",
     "output_type": "stream",
     "text": [
      "3192it [02:09, 27.21it/s]"
     ]
    },
    {
     "name": "stdout",
     "output_type": "stream",
     "text": [
      "invalid value encountered in true_divide\n"
     ]
    },
    {
     "name": "stderr",
     "output_type": "stream",
     "text": [
      "3253it [02:12, 27.48it/s]"
     ]
    },
    {
     "name": "stdout",
     "output_type": "stream",
     "text": [
      "invalid value encountered in true_divide\n"
     ]
    },
    {
     "name": "stderr",
     "output_type": "stream",
     "text": [
      "3335it [02:15, 26.93it/s]"
     ]
    },
    {
     "name": "stdout",
     "output_type": "stream",
     "text": [
      "invalid value encountered in true_divide\n"
     ]
    },
    {
     "name": "stderr",
     "output_type": "stream",
     "text": [
      "3351it [02:16, 27.27it/s]"
     ]
    },
    {
     "name": "stdout",
     "output_type": "stream",
     "text": [
      "invalid value encountered in true_divide\n"
     ]
    },
    {
     "name": "stderr",
     "output_type": "stream",
     "text": [
      "3391it [02:17, 27.71it/s]"
     ]
    },
    {
     "name": "stdout",
     "output_type": "stream",
     "text": [
      "invalid value encountered in true_divide\n"
     ]
    },
    {
     "name": "stderr",
     "output_type": "stream",
     "text": [
      "3425it [02:18, 27.54it/s]"
     ]
    },
    {
     "name": "stdout",
     "output_type": "stream",
     "text": [
      "invalid value encountered in true_divide\n"
     ]
    },
    {
     "name": "stderr",
     "output_type": "stream",
     "text": [
      "3432it [02:19, 27.22it/s]"
     ]
    },
    {
     "name": "stdout",
     "output_type": "stream",
     "text": [
      "invalid value encountered in true_divide\n"
     ]
    },
    {
     "name": "stderr",
     "output_type": "stream",
     "text": [
      "3439it [02:19, 26.82it/s]"
     ]
    },
    {
     "name": "stdout",
     "output_type": "stream",
     "text": [
      "invalid value encountered in true_divide\n"
     ]
    },
    {
     "name": "stderr",
     "output_type": "stream",
     "text": [
      "3717it [02:30, 29.14it/s]"
     ]
    },
    {
     "name": "stdout",
     "output_type": "stream",
     "text": [
      "invalid value encountered in true_divide\n",
      "invalid value encountered in true_divide\n"
     ]
    },
    {
     "name": "stderr",
     "output_type": "stream",
     "text": [
      "3727it [02:30, 27.58it/s]"
     ]
    },
    {
     "name": "stdout",
     "output_type": "stream",
     "text": [
      "invalid value encountered in true_divide\n"
     ]
    },
    {
     "name": "stderr",
     "output_type": "stream",
     "text": [
      "3752it [02:31, 27.21it/s]"
     ]
    },
    {
     "name": "stdout",
     "output_type": "stream",
     "text": [
      "invalid value encountered in true_divide\n"
     ]
    },
    {
     "name": "stderr",
     "output_type": "stream",
     "text": [
      "3768it [02:32, 26.82it/s]"
     ]
    },
    {
     "name": "stdout",
     "output_type": "stream",
     "text": [
      "invalid value encountered in true_divide\n"
     ]
    },
    {
     "name": "stderr",
     "output_type": "stream",
     "text": [
      "3862it [02:36, 27.10it/s]"
     ]
    },
    {
     "name": "stdout",
     "output_type": "stream",
     "text": [
      "invalid value encountered in true_divide\n"
     ]
    },
    {
     "name": "stderr",
     "output_type": "stream",
     "text": [
      "4013it [02:42, 26.08it/s]"
     ]
    },
    {
     "name": "stdout",
     "output_type": "stream",
     "text": [
      "invalid value encountered in true_divide\n"
     ]
    },
    {
     "name": "stderr",
     "output_type": "stream",
     "text": [
      "4036it [02:43, 24.75it/s]\n"
     ]
    }
   ],
   "source": [
    "import time\n",
    "from tqdm import tqdm\n",
    "\n",
    "# td=np.array([train_preprocess(x,y)\n",
    "x_trainp,y_trainp=[],[]\n",
    "for x,y in tqdm(zip(x_train,y_train)):\n",
    "    agx,agy=train_preprocess(x,y)\n",
    "    x_trainp+=agx\n",
    "    y_trainp+=agy\n",
    "x_trainp,y_trainp=np.array(x_trainp),np.array(y_trainp)\n",
    "# td=np.array(sum(,start=[]))\n",
    "# x_trainp,y_trainp=td[:,0],td[:1]\n",
    "# print(x_trainp)"
   ]
  },
  {
   "cell_type": "code",
   "execution_count": 64,
   "metadata": {},
   "outputs": [
    {
     "name": "stdout",
     "output_type": "stream",
     "text": [
      "Epoch 1/30\n",
      "296/296 [==============================] - 23s 74ms/step - loss: 0.6159 - sparse_categorical_accuracy: 0.6954 - val_loss: 0.6111 - val_sparse_categorical_accuracy: 0.6998\n",
      "Epoch 2/30\n",
      "296/296 [==============================] - 21s 69ms/step - loss: 0.5995 - sparse_categorical_accuracy: 0.7042 - val_loss: 0.5881 - val_sparse_categorical_accuracy: 0.6998\n",
      "Epoch 3/30\n",
      "296/296 [==============================] - 20s 69ms/step - loss: 0.5823 - sparse_categorical_accuracy: 0.7116 - val_loss: 0.5752 - val_sparse_categorical_accuracy: 0.7118\n",
      "Epoch 4/30\n",
      "296/296 [==============================] - 20s 69ms/step - loss: 0.5707 - sparse_categorical_accuracy: 0.7207 - val_loss: 0.5633 - val_sparse_categorical_accuracy: 0.7349\n",
      "Epoch 5/30\n",
      "296/296 [==============================] - 21s 70ms/step - loss: 0.5560 - sparse_categorical_accuracy: 0.7275 - val_loss: 0.5511 - val_sparse_categorical_accuracy: 0.7400\n",
      "Epoch 6/30\n",
      "296/296 [==============================] - 21s 70ms/step - loss: 0.5427 - sparse_categorical_accuracy: 0.7355 - val_loss: 0.5401 - val_sparse_categorical_accuracy: 0.7570\n",
      "Epoch 7/30\n",
      "296/296 [==============================] - 20s 69ms/step - loss: 0.5284 - sparse_categorical_accuracy: 0.7462 - val_loss: 0.5271 - val_sparse_categorical_accuracy: 0.7781\n",
      "Epoch 8/30\n",
      "296/296 [==============================] - 21s 70ms/step - loss: 0.5122 - sparse_categorical_accuracy: 0.7597 - val_loss: 0.5136 - val_sparse_categorical_accuracy: 0.7942\n",
      "Epoch 9/30\n",
      "296/296 [==============================] - 21s 71ms/step - loss: 0.4972 - sparse_categorical_accuracy: 0.7705 - val_loss: 0.4996 - val_sparse_categorical_accuracy: 0.8052\n",
      "Epoch 10/30\n",
      "296/296 [==============================] - 20s 67ms/step - loss: 0.4859 - sparse_categorical_accuracy: 0.7794 - val_loss: 0.4865 - val_sparse_categorical_accuracy: 0.8102\n",
      "Epoch 11/30\n",
      "296/296 [==============================] - 22s 74ms/step - loss: 0.4732 - sparse_categorical_accuracy: 0.7903 - val_loss: 0.4773 - val_sparse_categorical_accuracy: 0.8163\n",
      "Epoch 12/30\n",
      "296/296 [==============================] - 20s 67ms/step - loss: 0.4576 - sparse_categorical_accuracy: 0.8018 - val_loss: 0.4634 - val_sparse_categorical_accuracy: 0.8203\n",
      "Epoch 13/30\n",
      "296/296 [==============================] - 20s 68ms/step - loss: 0.4458 - sparse_categorical_accuracy: 0.8102 - val_loss: 0.4528 - val_sparse_categorical_accuracy: 0.8243\n",
      "Epoch 14/30\n",
      "296/296 [==============================] - 20s 68ms/step - loss: 0.4344 - sparse_categorical_accuracy: 0.8146 - val_loss: 0.4456 - val_sparse_categorical_accuracy: 0.8263\n",
      "Epoch 15/30\n",
      "296/296 [==============================] - 20s 67ms/step - loss: 0.4209 - sparse_categorical_accuracy: 0.8263 - val_loss: 0.4295 - val_sparse_categorical_accuracy: 0.8343\n",
      "Epoch 16/30\n",
      "296/296 [==============================] - 20s 69ms/step - loss: 0.4099 - sparse_categorical_accuracy: 0.8291 - val_loss: 0.4201 - val_sparse_categorical_accuracy: 0.8333\n",
      "Epoch 17/30\n",
      "296/296 [==============================] - 20s 67ms/step - loss: 0.3985 - sparse_categorical_accuracy: 0.8348 - val_loss: 0.4112 - val_sparse_categorical_accuracy: 0.8313\n",
      "Epoch 18/30\n",
      "296/296 [==============================] - 21s 70ms/step - loss: 0.3886 - sparse_categorical_accuracy: 0.8387 - val_loss: 0.4002 - val_sparse_categorical_accuracy: 0.8384\n",
      "Epoch 19/30\n",
      "296/296 [==============================] - 20s 67ms/step - loss: 0.3798 - sparse_categorical_accuracy: 0.8447 - val_loss: 0.3901 - val_sparse_categorical_accuracy: 0.8464\n",
      "Epoch 20/30\n",
      "296/296 [==============================] - 20s 67ms/step - loss: 0.3702 - sparse_categorical_accuracy: 0.8468 - val_loss: 0.3810 - val_sparse_categorical_accuracy: 0.8474\n",
      "Epoch 21/30\n",
      "296/296 [==============================] - 20s 67ms/step - loss: 0.3634 - sparse_categorical_accuracy: 0.8532 - val_loss: 0.3725 - val_sparse_categorical_accuracy: 0.8514\n",
      "Epoch 22/30\n",
      "296/296 [==============================] - 20s 69ms/step - loss: 0.3515 - sparse_categorical_accuracy: 0.8568 - val_loss: 0.3627 - val_sparse_categorical_accuracy: 0.8604\n",
      "Epoch 23/30\n",
      "296/296 [==============================] - 20s 67ms/step - loss: 0.3499 - sparse_categorical_accuracy: 0.8543 - val_loss: 0.3580 - val_sparse_categorical_accuracy: 0.8584\n",
      "Epoch 24/30\n",
      "296/296 [==============================] - 20s 67ms/step - loss: 0.3392 - sparse_categorical_accuracy: 0.8608 - val_loss: 0.3508 - val_sparse_categorical_accuracy: 0.8635\n",
      "Epoch 25/30\n",
      "296/296 [==============================] - 20s 68ms/step - loss: 0.3340 - sparse_categorical_accuracy: 0.8630 - val_loss: 0.3446 - val_sparse_categorical_accuracy: 0.8635\n",
      "Epoch 26/30\n",
      "296/296 [==============================] - 20s 66ms/step - loss: 0.3288 - sparse_categorical_accuracy: 0.8639 - val_loss: 0.3365 - val_sparse_categorical_accuracy: 0.8635\n",
      "Epoch 27/30\n",
      "296/296 [==============================] - 20s 69ms/step - loss: 0.3248 - sparse_categorical_accuracy: 0.8681 - val_loss: 0.3316 - val_sparse_categorical_accuracy: 0.8665\n",
      "Epoch 28/30\n",
      "296/296 [==============================] - 20s 69ms/step - loss: 0.3179 - sparse_categorical_accuracy: 0.8694 - val_loss: 0.3286 - val_sparse_categorical_accuracy: 0.8695\n",
      "Epoch 29/30\n",
      "296/296 [==============================] - 20s 67ms/step - loss: 0.3141 - sparse_categorical_accuracy: 0.8702 - val_loss: 0.3219 - val_sparse_categorical_accuracy: 0.8695\n",
      "Epoch 30/30\n",
      "296/296 [==============================] - 20s 67ms/step - loss: 0.3117 - sparse_categorical_accuracy: 0.8717 - val_loss: 0.3179 - val_sparse_categorical_accuracy: 0.8705\n"
     ]
    }
   ],
   "source": [
    "from tensorflow.keras import callbacks\n",
    "cb = [\n",
    "    callbacks.ModelCheckpoint(\n",
    "        filepath=\"checkpoints/ckpt-loss={loss:.2f}\", save_freq=10000\n",
    "    )\n",
    "]\n",
    "model=getmodel()\n",
    "model.fit(x_trainp,y_trainp,64,epochs=30,callbacks=cb,validation_split=0.05)\n",
    "model.save(\"./models/m{}.h5\".format(time.strftime(\"%Y_%m_%d_%H_%M_%S\", time.localtime())))\n",
    "model.save(\"./models/latest.h5\")"
   ]
  },
  {
   "cell_type": "code",
   "execution_count": 69,
   "metadata": {},
   "outputs": [
    {
     "name": "stderr",
     "output_type": "stream",
     "text": [
      "125it [00:02, 54.83it/s]"
     ]
    },
    {
     "name": "stdout",
     "output_type": "stream",
     "text": [
      "invalid value encountered in true_divide\n",
      "invalid value encountered in true_divide\n"
     ]
    },
    {
     "name": "stderr",
     "output_type": "stream",
     "text": [
      "162it [00:03, 54.79it/s]"
     ]
    },
    {
     "name": "stdout",
     "output_type": "stream",
     "text": [
      "invalid value encountered in true_divide\n"
     ]
    },
    {
     "name": "stderr",
     "output_type": "stream",
     "text": [
      "194it [00:03, 48.32it/s]"
     ]
    },
    {
     "name": "stdout",
     "output_type": "stream",
     "text": [
      "invalid value encountered in true_divide\n"
     ]
    },
    {
     "name": "stderr",
     "output_type": "stream",
     "text": [
      "205it [00:04, 47.28it/s]"
     ]
    },
    {
     "name": "stdout",
     "output_type": "stream",
     "text": [
      "invalid value encountered in true_divide\n"
     ]
    },
    {
     "name": "stderr",
     "output_type": "stream",
     "text": [
      "349it [00:06, 53.19it/s]"
     ]
    },
    {
     "name": "stdout",
     "output_type": "stream",
     "text": [
      "invalid value encountered in true_divide\n"
     ]
    },
    {
     "name": "stderr",
     "output_type": "stream",
     "text": [
      "449it [00:08, 51.27it/s]\n"
     ]
    }
   ],
   "source": [
    "# x_testp=normalize(np.array([ndresize(x)for x in x_test]))\n",
    "# y_testp=np.array([0 if y[0]==\"n\"else 1 for y in y_test])\n",
    "x_testp,y_testp=[],[]\n",
    "for x,y in tqdm(zip(x_test,y_test)):\n",
    "    agx,agy=test_preprocess(x,y)\n",
    "    x_testp+=agx\n",
    "    y_testp+=agy\n",
    "x_testp,y_testp=np.array(x_testp),np.array(y_testp)"
   ]
  },
  {
   "cell_type": "code",
   "execution_count": 70,
   "metadata": {},
   "outputs": [
    {
     "name": "stdout",
     "output_type": "stream",
     "text": [
      "Test accuracy=0.8758465051651001\n"
     ]
    }
   ],
   "source": [
    "from tensorflow.keras import metrics\n",
    "y_predit=model.predict(x_testp)\n",
    "tot=metrics.sparse_categorical_accuracy(y_testp,y_predit)\n",
    "acc=sum(tot)/len(tot)\n",
    "print(\"Test accuracy={}\".format(acc.numpy()))"
   ]
  },
  {
   "cell_type": "code",
   "execution_count": 71,
   "metadata": {},
   "outputs": [
    {
     "data": {
      "image/png": "[encoded data removed]",
      "text/plain": [
       "<Figure size 432x288 with 1 Axes>"
      ]
     },
     "metadata": {
      "needs_background": "light"
     },
     "output_type": "display_data"
    }
   ],
   "source": [
    "import numpy as np\n",
    "import matplotlib.pyplot as plt\n",
    "from itertools import cycle\n",
    "\n",
    "from sklearn import svm, datasets\n",
    "from sklearn.metrics import roc_curve, auc\n",
    "from sklearn.model_selection import train_test_split\n",
    "from sklearn.preprocessing import label_binarize\n",
    "from sklearn.multiclass import OneVsRestClassifier\n",
    "# from scipy import interp\n",
    "\n",
    "\n",
    "# ylabel=label_binarize(y_testp,classes=[0,1])\n",
    "# fpr = dict()\n",
    "# tpr = dict()\n",
    "# roc_auc = dict()\n",
    "# for i in range(2):\n",
    "fpr, tpr, _ = roc_curve(y_testp, y_predit[:, 1])\n",
    "roc_auc = auc(fpr, tpr)\n",
    "# fpr[0].shape==tpr[0].shape==(21, ), fpr[1].shape==tpr[1].shape==(35, ), fpr[2].shape==tpr[2].shape==(33, ) \n",
    "# roc_auc {0: 0.9118165784832452, 1: 0.6029629629629629, 2: 0.7859477124183007}\n",
    "\n",
    "plt.figure()\n",
    "lw = 2\n",
    "plt.plot(fpr, tpr, color='darkorange',\n",
    "         lw=lw, label='ROC curve (area = %0.2f)' % roc_auc)\n",
    "plt.plot([0, 1], [0, 1], color='navy', lw=lw, linestyle='--')\n",
    "plt.xlim([0.0, 1.0])\n",
    "plt.ylim([0.0, 1.05])\n",
    "plt.xlabel('False Positive Rate')\n",
    "plt.ylabel('True Positive Rate')\n",
    "plt.title('Receiver operating characteristic example')\n",
    "plt.legend(loc=\"lower right\")\n",
    "plt.show()\n"
   ]
  },
  {
   "cell_type": "code",
   "execution_count": null,
   "metadata": {},
   "outputs": [
    {
     "data": {
      "text/plain": [
       "0.0"
      ]
     },
     "execution_count": 35,
     "metadata": {},
     "output_type": "execute_result"
    }
   ],
   "source": [
    "x_train[75].max()\n",
    "dataset[0][3783]"
   ]
  },
  {
   "cell_type": "code",
   "execution_count": null,
   "metadata": {},
   "outputs": [
    {
     "data": {
      "text/html": [
       "<div>\n",
       "<style scoped>\n",
       "    .dataframe tbody tr th:only-of-type {\n",
       "        vertical-align: middle;\n",
       "    }\n",
       "\n",
       "    .dataframe tbody tr th {\n",
       "        vertical-align: top;\n",
       "    }\n",
       "\n",
       "    .dataframe thead th {\n",
       "        text-align: right;\n",
       "    }\n",
       "</style>\n",
       "<table border=\"1\" class=\"dataframe\">\n",
       "  <thead>\n",
       "    <tr style=\"text-align: right;\">\n",
       "      <th></th>\n",
       "      <th>BID</th>\n",
       "      <th>PROTOCOL</th>\n",
       "      <th>LIGAND</th>\n",
       "      <th>PMODSUVR</th>\n",
       "      <th>ELIGVI1</th>\n",
       "      <th>ELIGVI2</th>\n",
       "      <th>CONSENSUS</th>\n",
       "      <th>SCORE</th>\n",
       "      <th>update_stamp</th>\n",
       "    </tr>\n",
       "  </thead>\n",
       "  <tbody>\n",
       "    <tr>\n",
       "      <th>3783</th>\n",
       "      <td>B86670631</td>\n",
       "      <td>A4</td>\n",
       "      <td>Florbetapir</td>\n",
       "      <td>1.02</td>\n",
       "      <td>negative</td>\n",
       "      <td>NaN</td>\n",
       "      <td>NaN</td>\n",
       "      <td>negative</td>\n",
       "      <td>2021-03-29 11:38:41.0</td>\n",
       "    </tr>\n",
       "  </tbody>\n",
       "</table>\n",
       "</div>"
      ],
      "text/plain": [
       "            BID PROTOCOL       LIGAND  PMODSUVR   ELIGVI1 ELIGVI2 CONSENSUS  \\\n",
       "3783  B86670631       A4  Florbetapir      1.02  negative     NaN       NaN   \n",
       "\n",
       "         SCORE           update_stamp  \n",
       "3783  negative  2021-03-29 11:38:41.0  "
      ]
     },
     "execution_count": 47,
     "metadata": {},
     "output_type": "execute_result"
    }
   ],
   "source": [
    "df[3783:3784]"
   ]
  },
  {
   "cell_type": "code",
   "execution_count": null,
   "metadata": {},
   "outputs": [],
   "source": []
  }
 ],
 "metadata": {
  "interpreter": {
   "hash": "55702b90ceafba54e3ad10b929c72d2322c4b2ddf39adb4363ed7efc5edc6583"
  },
  "kernelspec": {
   "display_name": "Python 3.7.9 64-bit ('mtf': conda)",
   "language": "python",
   "name": "python3"
  },
  "language_info": {
   "codemirror_mode": {
    "name": "ipython",
    "version": 3
   },
   "file_extension": ".py",
   "mimetype": "text/x-python",
   "name": "python",
   "nbconvert_exporter": "python",
   "pygments_lexer": "ipython3",
   "version": "3.6.9"
  },
  "orig_nbformat": 4
 },
 "nbformat": 4,
 "nbformat_minor": 2
}
