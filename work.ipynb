{
 "cells": [
  {
   "cell_type": "code",
   "execution_count": 20,
   "metadata": {},
   "outputs": [],
   "source": [
    "import sklearn\n",
    "import tensorflow as tf\n",
    "from tensorflow import keras\n",
    "from matplotlib import pylab as plt\n",
    "# import matplotlib #don't delete!"
   ]
  },
  {
   "cell_type": "code",
   "execution_count": 21,
   "metadata": {},
   "outputs": [
    {
     "data": {
      "image/png": "[encoded data removed]",
      "text/plain": [
       "<Figure size 576x576 with 3 Axes>"
      ]
     },
     "metadata": {
      "needs_background": "light"
     },
     "output_type": "display_data"
    },
    {
     "data": {
      "text/plain": [
       "(91, 109, 91)"
      ]
     },
     "execution_count": 21,
     "metadata": {},
     "output_type": "execute_result"
    }
   ],
   "source": [
    "from matplotlib import pylab as plt\n",
    "import nibabel as nib\n",
    "from nibabel.viewers import OrthoSlicer3D\n",
    "example_filename = \"./datasets/A4/A4_aligned/B10018169/Florbetapir/cmeanA4_B10018169_MR_Florbetapir_Br_20200720182306561_S893044_I1321166.nii.gz\"\n",
    " \n",
    "img = nib.load(example_filename)\n",
    "OrthoSlicer3D(img.dataobj).show()\n",
    "fdata=img.get_fdata()\n",
    "fdata.shape"
   ]
  },
  {
   "cell_type": "code",
   "execution_count": 22,
   "metadata": {},
   "outputs": [
    {
     "name": "stdout",
     "output_type": "stream",
     "text": [
      "invalid value encountered in true_divide\n",
      "invalid value encountered in true_divide\n",
      "invalid value encountered in true_divide\n",
      "invalid value encountered in true_divide\n",
      "invalid value encountered in true_divide\n",
      "invalid value encountered in true_divide\n",
      "invalid value encountered in true_divide\n",
      "invalid value encountered in true_divide\n",
      "invalid value encountered in true_divide\n",
      "invalid value encountered in true_divide\n",
      "invalid value encountered in true_divide\n",
      "invalid value encountered in true_divide\n",
      "invalid value encountered in true_divide\n",
      "invalid value encountered in true_divide\n",
      "invalid value encountered in true_divide\n",
      "invalid value encountered in true_divide\n",
      "invalid value encountered in true_divide\n",
      "invalid value encountered in true_divide\n",
      "invalid value encountered in true_divide\n",
      "[Errno 2] No such file or directory: 'datasets/A4/A4_aligned/B38895224/Florbetapir/'\n",
      "invalid value encountered in true_divide\n",
      "invalid value encountered in true_divide\n",
      "invalid value encountered in true_divide\n",
      "invalid value encountered in true_divide\n",
      "invalid value encountered in true_divide\n",
      "invalid value encountered in true_divide\n",
      "invalid value encountered in true_divide\n",
      "invalid value encountered in true_divide\n",
      "[Errno 2] No such file or directory: 'datasets/A4/A4_aligned/B49205929/Florbetapir/'\n",
      "invalid value encountered in true_divide\n",
      "invalid value encountered in true_divide\n",
      "invalid value encountered in true_divide\n",
      "[Errno 2] No such file or directory: 'datasets/A4/A4_aligned/B53208294/Florbetapir/'\n",
      "invalid value encountered in true_divide\n",
      "invalid value encountered in true_divide\n",
      "invalid value encountered in true_divide\n",
      "invalid value encountered in true_divide\n",
      "invalid value encountered in true_divide\n",
      "invalid value encountered in true_divide\n",
      "invalid value encountered in true_divide\n",
      "invalid value encountered in true_divide\n",
      "invalid value encountered in true_divide\n",
      "invalid value encountered in true_divide\n",
      "invalid value encountered in true_divide\n",
      "invalid value encountered in true_divide\n",
      "invalid value encountered in true_divide\n",
      "invalid value encountered in true_divide\n",
      "invalid value encountered in true_divide\n",
      "invalid value encountered in true_divide\n",
      "invalid value encountered in true_divide\n",
      "invalid value encountered in true_divide\n",
      "invalid value encountered in true_divide\n",
      "invalid value encountered in true_divide\n",
      "invalid value encountered in true_divide\n",
      "invalid value encountered in true_divide\n",
      "invalid value encountered in true_divide\n",
      "[Errno 2] No such file or directory: 'datasets/A4/A4_aligned/B84981344/Florbetapir/'\n",
      "invalid value encountered in true_divide\n",
      "invalid value encountered in true_divide\n",
      "invalid value encountered in true_divide\n",
      "invalid value encountered in true_divide\n",
      "invalid value encountered in true_divide\n",
      "[Errno 2] No such file or directory: 'datasets/A4/A4_aligned/B93762493/Florbetapir/'\n",
      "[Errno 2] No such file or directory: 'datasets/A4/A4_aligned/B95412218/Florbetapir/'\n",
      "invalid value encountered in true_divide\n",
      "[Errno 2] No such file or directory: 'datasets/A4/A4_aligned/B99870985/Florbetapir/'\n",
      "['B11238033', 'B11255389', 'B11941178', 'B15852147', 'B19496904', 'B21119199', 'B21269476', 'B21881996', 'B22358364', 'B23481070', 'B27410963', 'B28346473', 'B28921939', 'B30185597', 'B30774029', 'B31236906', 'B33822549', 'B38287758', 'B38613273', 'B38895224', 'B39471375', 'B39604436', 'B41769231', 'B44308727', 'B44346102', 'B45947840', 'B46371252', 'B47789385', 'B49205929', 'B50433022', 'B50695178', 'B51487032', 'B53208294', 'B55137558', 'B56341436', 'B57039456', 'B57073009', 'B58967315', 'B59817169', 'B59870866', 'B60051664', 'B60212601', 'B61421682', 'B65781664', 'B66300512', 'B67473102', 'B69406331', 'B71116809', 'B73974231', 'B74309049', 'B75018078', 'B75144329', 'B75284359', 'B80199293', 'B81850673', 'B84420603', 'B84981344', 'B85876120', 'B86763369', 'B88945518', 'B89808868', 'B89982072', 'B93762493', 'B95412218', 'B98005010', 'B99870985']\n"
     ]
    }
   ],
   "source": [
    "import pandas as pd\n",
    "import nibabel as nib\n",
    "import os,warnings\n",
    "warnings.filterwarnings('error')\n",
    "\n",
    "df=pd.read_csv(\"datasets/A4/document/A4_PETVADATA_PRV2.csv\")\n",
    "normalize=lambda x:(x-x.mean())/x.std()\n",
    "unusable=[]\n",
    "x,y=[],[]\n",
    "maxnum=-1\n",
    "for i,(bid,score) in enumerate(zip(df.BID,df.SCORE)):\n",
    "    if i==maxnum:break\n",
    "    try:\n",
    "        dirname=\"datasets/A4/A4_aligned/{}/Florbetapir/\".format(bid)\n",
    "        filelist=os.listdir(dirname)\n",
    "        filename=None\n",
    "        # print(filelist)\n",
    "        # input()\n",
    "        for t_fname in filelist:\n",
    "            if not '(' in t_fname: filename=t_fname\n",
    "        # filename=filelist[0]\n",
    "        if filename is None:\n",
    "            raise \"BID_{}:file not found!\".format(bid)\n",
    "        ngz=nib.load(os.path.join(dirname,filename))\n",
    "        x.append(normalize(ngz.get_fdata()))\n",
    "        y.append(score)\n",
    "    \n",
    "    except Exception as e:\n",
    "        unusable.append(bid)\n",
    "        print(e)\n",
    "        # print(\"BID_{} unusable.\".format(id))\n",
    "dataset=(x,y)\n",
    "print(unusable)"
   ]
  },
  {
   "cell_type": "code",
   "execution_count": 23,
   "metadata": {},
   "outputs": [],
   "source": [
    "### data augmentation & preprocessing\n",
    "from tensorflow.keras import Sequential,layers\n",
    "#augmentation (don't do like this!)\n",
    "data_augmentation=Sequential([\n",
    "    # layers.RandomFlip(\"horizontal\"),\n",
    "    layers.RandomRotation(0.1),\n",
    "    layers.RandomZoom(0.05),\n",
    "])\n",
    "#preprocess(wrong code)\n",
    "data_preprocess=Sequential([\n",
    "    layers.BatchNormalization(),# not bn in training\n",
    "    # layers.experimental.preprocessing.Resizing()\n",
    "])"
   ]
  },
  {
   "cell_type": "code",
   "execution_count": 24,
   "metadata": {},
   "outputs": [],
   "source": [
    "from sklearn.model_selection import train_test_split,KFold\n",
    "x_train,x_test,y_train,y_test=train_test_split(\n",
    "    dataset[0],dataset[1],test_size=0.1,random_state=1919810\n",
    ")\n",
    "kf = KFold(n_splits=10)"
   ]
  },
  {
   "cell_type": "code",
   "execution_count": 25,
   "metadata": {},
   "outputs": [],
   "source": [
    "import scipy\n",
    "import numpy as np\n",
    "# data_preprocess(x_train,y_train)\n",
    "def ndresize(x):\n",
    "    orisize=np.array(x.shape)\n",
    "    tgsize=np.array((42,50,42))\n",
    "    return scipy.ndimage.zoom(x,tgsize/orisize,order=1)\n",
    "\n",
    "def random_padcut3d(x,rate):\n",
    "    # dim=len(x.shape)\n",
    "    pc=(x.shape*np.random.uniform(-rate/2.,rate/2.,size=(3))).astype(np.int32)\n",
    "    pad=np.maximum(0,pc)\n",
    "    # pad=np.max(np.array((0),dtype=np.int32),pc)\n",
    "    cut=np.minimum(0,pc)\n",
    "    cut=tuple([slice(None,None) if c==0 else slice(-c,c) for c in cut])\n",
    "    \n",
    "    x=np.pad(x,((pad[0],pad[0]),(pad[1],pad[1]),(pad[2],pad[2])))\n",
    "    x=x[cut]\n",
    "    # len(x.shape)\n",
    "    # dtlist=[np.pad]\n",
    "    return x\n",
    "def train_preprocess(x,y,agrate=5):\n",
    "    try:\n",
    "        x=np.array(x)\n",
    "        x=normalize(x)\n",
    "        xlist=[]\n",
    "        for i in range(agrate):\n",
    "            x=random_padcut3d(x,0.15)\n",
    "            x=ndresize(x)\n",
    "            xlist.append(x)\n",
    "        x=xlist\n",
    "        y=[0 if y[0]==\"n\"else 1]*agrate\n",
    "        return x,y\n",
    "    except Exception as w:\n",
    "        print(w)\n",
    "        return [],[]\n",
    "\n",
    "def test_preprocess(x,y):\n",
    "    try:\n",
    "        x=np.array(x)\n",
    "        x=normalize(x)\n",
    "        xlist=[]\n",
    "        x=ndresize(x)\n",
    "        xlist.append(x)\n",
    "        x=xlist\n",
    "        y=[0 if y[0]==\"n\"else 1]\n",
    "        return x,y\n",
    "    except Exception as w:\n",
    "        print(w)\n",
    "        return [],[]"
   ]
  },
  {
   "cell_type": "code",
   "execution_count": 26,
   "metadata": {},
   "outputs": [
    {
     "name": "stderr",
     "output_type": "stream",
     "text": [
      "3983it [02:37, 25.26it/s]\n"
     ]
    }
   ],
   "source": [
    "import time\n",
    "from tqdm import tqdm\n",
    "\n",
    "# td=np.array([train_preprocess(x,y)\n",
    "x_trainp,y_trainp=[],[]\n",
    "for x,y in tqdm(zip(x_train,y_train)):\n",
    "    agx,agy=train_preprocess(x,y)\n",
    "    x_trainp+=agx\n",
    "    y_trainp+=agy\n",
    "x_trainp,y_trainp=np.array(x_trainp),np.array(y_trainp)\n",
    "# td=np.array(sum(,start=[]))\n",
    "# x_trainp,y_trainp=td[:,0],td[:1]\n",
    "# print(x_trainp)"
   ]
  },
  {
   "cell_type": "code",
   "execution_count": 27,
   "metadata": {},
   "outputs": [
    {
     "name": "stdout",
     "output_type": "stream",
     "text": [
      "Epoch 1/30\n",
      "296/296 [==============================] - 22s 72ms/step - loss: 0.6415 - sparse_categorical_accuracy: 0.6424 - val_loss: 0.6299 - val_sparse_categorical_accuracy: 0.6908\n",
      "Epoch 2/30\n",
      "296/296 [==============================] - 20s 69ms/step - loss: 0.6011 - sparse_categorical_accuracy: 0.6988 - val_loss: 0.5929 - val_sparse_categorical_accuracy: 0.6837\n",
      "Epoch 3/30\n",
      "296/296 [==============================] - 21s 70ms/step - loss: 0.5841 - sparse_categorical_accuracy: 0.7066 - val_loss: 0.5754 - val_sparse_categorical_accuracy: 0.6908\n",
      "Epoch 4/30\n",
      "296/296 [==============================] - 20s 68ms/step - loss: 0.5696 - sparse_categorical_accuracy: 0.7135 - val_loss: 0.5592 - val_sparse_categorical_accuracy: 0.6948\n",
      "Epoch 5/30\n",
      "296/296 [==============================] - 20s 68ms/step - loss: 0.5580 - sparse_categorical_accuracy: 0.7211 - val_loss: 0.5430 - val_sparse_categorical_accuracy: 0.7159\n",
      "Epoch 6/30\n",
      "296/296 [==============================] - 20s 69ms/step - loss: 0.5421 - sparse_categorical_accuracy: 0.7310 - val_loss: 0.5261 - val_sparse_categorical_accuracy: 0.7269\n",
      "Epoch 7/30\n",
      "296/296 [==============================] - 20s 68ms/step - loss: 0.5295 - sparse_categorical_accuracy: 0.7443 - val_loss: 0.5092 - val_sparse_categorical_accuracy: 0.7510\n",
      "Epoch 8/30\n",
      "296/296 [==============================] - 20s 69ms/step - loss: 0.5152 - sparse_categorical_accuracy: 0.7560 - val_loss: 0.4922 - val_sparse_categorical_accuracy: 0.7741\n",
      "Epoch 9/30\n",
      "296/296 [==============================] - 21s 69ms/step - loss: 0.5002 - sparse_categorical_accuracy: 0.7711 - val_loss: 0.4759 - val_sparse_categorical_accuracy: 0.7892\n",
      "Epoch 10/30\n",
      "296/296 [==============================] - 20s 68ms/step - loss: 0.4855 - sparse_categorical_accuracy: 0.7788 - val_loss: 0.4601 - val_sparse_categorical_accuracy: 0.8012\n",
      "Epoch 11/30\n",
      "296/296 [==============================] - 20s 68ms/step - loss: 0.4712 - sparse_categorical_accuracy: 0.7900 - val_loss: 0.4445 - val_sparse_categorical_accuracy: 0.8112\n",
      "Epoch 12/30\n",
      "296/296 [==============================] - 20s 67ms/step - loss: 0.4567 - sparse_categorical_accuracy: 0.7999 - val_loss: 0.4300 - val_sparse_categorical_accuracy: 0.8173\n",
      "Epoch 13/30\n",
      "296/296 [==============================] - 20s 67ms/step - loss: 0.4457 - sparse_categorical_accuracy: 0.8070 - val_loss: 0.4152 - val_sparse_categorical_accuracy: 0.8263\n",
      "Epoch 14/30\n",
      "170/296 [================>.............] - ETA: 8s - loss: 0.4298 - sparse_categorical_accuracy: 0.8165"
     ]
    }
   ],
   "source": [
    "from tensorflow.keras import callbacks\n",
    "from units.model import CNN3D\n",
    "\n",
    "cb = [\n",
    "    callbacks.ModelCheckpoint(\n",
    "        filepath=\"checkpoints/ckpt-loss={loss:.2f}\", save_freq=10000\n",
    "    )\n",
    "]\n",
    "model=CNN3D()\n",
    "model.fit(x_trainp,y_trainp,64,epochs=30,callbacks=cb,validation_split=0.05)\n",
    "model.save(\"./models/m{}.h5\".format(time.strftime(\"%Y_%m_%d_%H_%M_%S\", time.localtime())))\n",
    "model.save(\"./models/latest.h5\")"
   ]
  },
  {
   "cell_type": "code",
   "execution_count": null,
   "metadata": {},
   "outputs": [
    {
     "name": "stdout",
     "output_type": "stream",
     "text": [
      "Epoch 1/30\n",
      "34/34 [==============================] - 3s 75ms/step - loss: 0.6291 - sparse_categorical_accuracy: 0.6947 - val_loss: 0.6363 - val_sparse_categorical_accuracy: 0.7768\n",
      "Epoch 2/30\n",
      "34/34 [==============================] - 2s 67ms/step - loss: 0.6228 - sparse_categorical_accuracy: 0.6933 - val_loss: 0.6275 - val_sparse_categorical_accuracy: 0.7768\n",
      "Epoch 3/30\n",
      "34/34 [==============================] - 2s 68ms/step - loss: 0.6208 - sparse_categorical_accuracy: 0.6971 - val_loss: 0.6186 - val_sparse_categorical_accuracy: 0.7768\n",
      "Epoch 4/30\n",
      "34/34 [==============================] - 2s 69ms/step - loss: 0.6275 - sparse_categorical_accuracy: 0.6971 - val_loss: 0.6087 - val_sparse_categorical_accuracy: 0.7768\n",
      "Epoch 5/30\n",
      "34/34 [==============================] - 2s 68ms/step - loss: 0.6184 - sparse_categorical_accuracy: 0.6962 - val_loss: 0.5989 - val_sparse_categorical_accuracy: 0.7768\n",
      "Epoch 6/30\n",
      "34/34 [==============================] - 2s 68ms/step - loss: 0.6211 - sparse_categorical_accuracy: 0.6966 - val_loss: 0.5908 - val_sparse_categorical_accuracy: 0.7768\n",
      "Epoch 7/30\n",
      "34/34 [==============================] - 2s 69ms/step - loss: 0.6251 - sparse_categorical_accuracy: 0.6952 - val_loss: 0.5844 - val_sparse_categorical_accuracy: 0.7768\n",
      "Epoch 8/30\n",
      "34/34 [==============================] - 2s 69ms/step - loss: 0.6223 - sparse_categorical_accuracy: 0.6962 - val_loss: 0.5791 - val_sparse_categorical_accuracy: 0.7768\n",
      "Epoch 9/30\n",
      "34/34 [==============================] - 2s 68ms/step - loss: 0.6229 - sparse_categorical_accuracy: 0.6943 - val_loss: 0.5752 - val_sparse_categorical_accuracy: 0.7768\n",
      "Epoch 10/30\n",
      "34/34 [==============================] - 2s 68ms/step - loss: 0.6126 - sparse_categorical_accuracy: 0.7000 - val_loss: 0.5708 - val_sparse_categorical_accuracy: 0.7768\n",
      "Epoch 11/30\n",
      "18/34 [==============>...............] - ETA: 1s - loss: 0.6146 - sparse_categorical_accuracy: 0.6953"
     ]
    },
    {
     "ename": "KeyboardInterrupt",
     "evalue": "",
     "output_type": "error",
     "traceback": [
      "\u001b[0;31m---------------------------------------------------------------------------\u001b[0m",
      "\u001b[0;31mKeyboardInterrupt\u001b[0m                         Traceback (most recent call last)",
      "\u001b[0;32m<ipython-input-17-eb9887feb548>\u001b[0m in \u001b[0;36m<module>\u001b[0;34m\u001b[0m\n\u001b[1;32m      2\u001b[0m \u001b[0;32mfrom\u001b[0m \u001b[0mtensorflow\u001b[0m\u001b[0;34m.\u001b[0m\u001b[0mkeras\u001b[0m\u001b[0;34m.\u001b[0m\u001b[0mmodels\u001b[0m \u001b[0;32mimport\u001b[0m \u001b[0mload_model\u001b[0m\u001b[0;34m\u001b[0m\u001b[0;34m\u001b[0m\u001b[0m\n\u001b[1;32m      3\u001b[0m \u001b[0mmodel\u001b[0m\u001b[0;34m=\u001b[0m\u001b[0mload_model\u001b[0m\u001b[0;34m(\u001b[0m\u001b[0;34m\"./models/latest.h5\"\u001b[0m\u001b[0;34m)\u001b[0m\u001b[0;34m\u001b[0m\u001b[0;34m\u001b[0m\u001b[0m\n\u001b[0;32m----> 4\u001b[0;31m \u001b[0mmodel\u001b[0m\u001b[0;34m.\u001b[0m\u001b[0mfit\u001b[0m\u001b[0;34m(\u001b[0m\u001b[0mx_trainp\u001b[0m\u001b[0;34m,\u001b[0m\u001b[0my_trainp\u001b[0m\u001b[0;34m,\u001b[0m\u001b[0;36m64\u001b[0m\u001b[0;34m,\u001b[0m\u001b[0mepochs\u001b[0m\u001b[0;34m=\u001b[0m\u001b[0;36m30\u001b[0m\u001b[0;34m,\u001b[0m\u001b[0mcallbacks\u001b[0m\u001b[0;34m=\u001b[0m\u001b[0mcb\u001b[0m\u001b[0;34m,\u001b[0m\u001b[0mvalidation_split\u001b[0m\u001b[0;34m=\u001b[0m\u001b[0;36m0.05\u001b[0m\u001b[0;34m)\u001b[0m\u001b[0;34m\u001b[0m\u001b[0;34m\u001b[0m\u001b[0m\n\u001b[0m\u001b[1;32m      5\u001b[0m \u001b[0mmodel\u001b[0m\u001b[0;34m.\u001b[0m\u001b[0msave\u001b[0m\u001b[0;34m(\u001b[0m\u001b[0;34m\"./models/m{}.h5\"\u001b[0m\u001b[0;34m.\u001b[0m\u001b[0mformat\u001b[0m\u001b[0;34m(\u001b[0m\u001b[0mtime\u001b[0m\u001b[0;34m.\u001b[0m\u001b[0mstrftime\u001b[0m\u001b[0;34m(\u001b[0m\u001b[0;34m\"%Y_%m_%d_%H_%M_%S\"\u001b[0m\u001b[0;34m,\u001b[0m \u001b[0mtime\u001b[0m\u001b[0;34m.\u001b[0m\u001b[0mlocaltime\u001b[0m\u001b[0;34m(\u001b[0m\u001b[0;34m)\u001b[0m\u001b[0;34m)\u001b[0m\u001b[0;34m)\u001b[0m\u001b[0;34m)\u001b[0m\u001b[0;34m\u001b[0m\u001b[0;34m\u001b[0m\u001b[0m\n\u001b[1;32m      6\u001b[0m \u001b[0mmodel\u001b[0m\u001b[0;34m.\u001b[0m\u001b[0msave\u001b[0m\u001b[0;34m(\u001b[0m\u001b[0;34m\"./models/latest.h5\"\u001b[0m\u001b[0;34m)\u001b[0m\u001b[0;34m\u001b[0m\u001b[0;34m\u001b[0m\u001b[0m\n",
      "\u001b[0;32m/usr/local/lib/python3.6/dist-packages/keras/engine/training.py\u001b[0m in \u001b[0;36mfit\u001b[0;34m(self, x, y, batch_size, epochs, verbose, callbacks, validation_split, validation_data, shuffle, class_weight, sample_weight, initial_epoch, steps_per_epoch, validation_steps, validation_batch_size, validation_freq, max_queue_size, workers, use_multiprocessing)\u001b[0m\n\u001b[1;32m   1187\u001b[0m               \u001b[0mlogs\u001b[0m \u001b[0;34m=\u001b[0m \u001b[0mtmp_logs\u001b[0m  \u001b[0;31m# No error, now safe to assign to logs.\u001b[0m\u001b[0;34m\u001b[0m\u001b[0;34m\u001b[0m\u001b[0m\n\u001b[1;32m   1188\u001b[0m               \u001b[0mend_step\u001b[0m \u001b[0;34m=\u001b[0m \u001b[0mstep\u001b[0m \u001b[0;34m+\u001b[0m \u001b[0mdata_handler\u001b[0m\u001b[0;34m.\u001b[0m\u001b[0mstep_increment\u001b[0m\u001b[0;34m\u001b[0m\u001b[0;34m\u001b[0m\u001b[0m\n\u001b[0;32m-> 1189\u001b[0;31m               \u001b[0mcallbacks\u001b[0m\u001b[0;34m.\u001b[0m\u001b[0mon_train_batch_end\u001b[0m\u001b[0;34m(\u001b[0m\u001b[0mend_step\u001b[0m\u001b[0;34m,\u001b[0m \u001b[0mlogs\u001b[0m\u001b[0;34m)\u001b[0m\u001b[0;34m\u001b[0m\u001b[0;34m\u001b[0m\u001b[0m\n\u001b[0m\u001b[1;32m   1190\u001b[0m               \u001b[0;32mif\u001b[0m \u001b[0mself\u001b[0m\u001b[0;34m.\u001b[0m\u001b[0mstop_training\u001b[0m\u001b[0;34m:\u001b[0m\u001b[0;34m\u001b[0m\u001b[0;34m\u001b[0m\u001b[0m\n\u001b[1;32m   1191\u001b[0m                 \u001b[0;32mbreak\u001b[0m\u001b[0;34m\u001b[0m\u001b[0;34m\u001b[0m\u001b[0m\n",
      "\u001b[0;32m/usr/local/lib/python3.6/dist-packages/keras/callbacks.py\u001b[0m in \u001b[0;36mon_train_batch_end\u001b[0;34m(self, batch, logs)\u001b[0m\n\u001b[1;32m    433\u001b[0m     \"\"\"\n\u001b[1;32m    434\u001b[0m     \u001b[0;32mif\u001b[0m \u001b[0mself\u001b[0m\u001b[0;34m.\u001b[0m\u001b[0m_should_call_train_batch_hooks\u001b[0m\u001b[0;34m:\u001b[0m\u001b[0;34m\u001b[0m\u001b[0;34m\u001b[0m\u001b[0m\n\u001b[0;32m--> 435\u001b[0;31m       \u001b[0mself\u001b[0m\u001b[0;34m.\u001b[0m\u001b[0m_call_batch_hook\u001b[0m\u001b[0;34m(\u001b[0m\u001b[0mModeKeys\u001b[0m\u001b[0;34m.\u001b[0m\u001b[0mTRAIN\u001b[0m\u001b[0;34m,\u001b[0m \u001b[0;34m'end'\u001b[0m\u001b[0;34m,\u001b[0m \u001b[0mbatch\u001b[0m\u001b[0;34m,\u001b[0m \u001b[0mlogs\u001b[0m\u001b[0;34m=\u001b[0m\u001b[0mlogs\u001b[0m\u001b[0;34m)\u001b[0m\u001b[0;34m\u001b[0m\u001b[0;34m\u001b[0m\u001b[0m\n\u001b[0m\u001b[1;32m    436\u001b[0m \u001b[0;34m\u001b[0m\u001b[0m\n\u001b[1;32m    437\u001b[0m   \u001b[0;32mdef\u001b[0m \u001b[0mon_test_batch_begin\u001b[0m\u001b[0;34m(\u001b[0m\u001b[0mself\u001b[0m\u001b[0;34m,\u001b[0m \u001b[0mbatch\u001b[0m\u001b[0;34m,\u001b[0m \u001b[0mlogs\u001b[0m\u001b[0;34m=\u001b[0m\u001b[0;32mNone\u001b[0m\u001b[0;34m)\u001b[0m\u001b[0;34m:\u001b[0m\u001b[0;34m\u001b[0m\u001b[0;34m\u001b[0m\u001b[0m\n",
      "\u001b[0;32m/usr/local/lib/python3.6/dist-packages/keras/callbacks.py\u001b[0m in \u001b[0;36m_call_batch_hook\u001b[0;34m(self, mode, hook, batch, logs)\u001b[0m\n\u001b[1;32m    293\u001b[0m       \u001b[0mself\u001b[0m\u001b[0;34m.\u001b[0m\u001b[0m_call_batch_begin_hook\u001b[0m\u001b[0;34m(\u001b[0m\u001b[0mmode\u001b[0m\u001b[0;34m,\u001b[0m \u001b[0mbatch\u001b[0m\u001b[0;34m,\u001b[0m \u001b[0mlogs\u001b[0m\u001b[0;34m)\u001b[0m\u001b[0;34m\u001b[0m\u001b[0;34m\u001b[0m\u001b[0m\n\u001b[1;32m    294\u001b[0m     \u001b[0;32melif\u001b[0m \u001b[0mhook\u001b[0m \u001b[0;34m==\u001b[0m \u001b[0;34m'end'\u001b[0m\u001b[0;34m:\u001b[0m\u001b[0;34m\u001b[0m\u001b[0;34m\u001b[0m\u001b[0m\n\u001b[0;32m--> 295\u001b[0;31m       \u001b[0mself\u001b[0m\u001b[0;34m.\u001b[0m\u001b[0m_call_batch_end_hook\u001b[0m\u001b[0;34m(\u001b[0m\u001b[0mmode\u001b[0m\u001b[0;34m,\u001b[0m \u001b[0mbatch\u001b[0m\u001b[0;34m,\u001b[0m \u001b[0mlogs\u001b[0m\u001b[0;34m)\u001b[0m\u001b[0;34m\u001b[0m\u001b[0;34m\u001b[0m\u001b[0m\n\u001b[0m\u001b[1;32m    296\u001b[0m     \u001b[0;32melse\u001b[0m\u001b[0;34m:\u001b[0m\u001b[0;34m\u001b[0m\u001b[0;34m\u001b[0m\u001b[0m\n\u001b[1;32m    297\u001b[0m       \u001b[0;32mraise\u001b[0m \u001b[0mValueError\u001b[0m\u001b[0;34m(\u001b[0m\u001b[0;34m'Unrecognized hook: {}'\u001b[0m\u001b[0;34m.\u001b[0m\u001b[0mformat\u001b[0m\u001b[0;34m(\u001b[0m\u001b[0mhook\u001b[0m\u001b[0;34m)\u001b[0m\u001b[0;34m)\u001b[0m\u001b[0;34m\u001b[0m\u001b[0;34m\u001b[0m\u001b[0m\n",
      "\u001b[0;32m/usr/local/lib/python3.6/dist-packages/keras/callbacks.py\u001b[0m in \u001b[0;36m_call_batch_end_hook\u001b[0;34m(self, mode, batch, logs)\u001b[0m\n\u001b[1;32m    313\u001b[0m       \u001b[0mself\u001b[0m\u001b[0;34m.\u001b[0m\u001b[0m_batch_times\u001b[0m\u001b[0;34m.\u001b[0m\u001b[0mappend\u001b[0m\u001b[0;34m(\u001b[0m\u001b[0mbatch_time\u001b[0m\u001b[0;34m)\u001b[0m\u001b[0;34m\u001b[0m\u001b[0;34m\u001b[0m\u001b[0m\n\u001b[1;32m    314\u001b[0m \u001b[0;34m\u001b[0m\u001b[0m\n\u001b[0;32m--> 315\u001b[0;31m     \u001b[0mself\u001b[0m\u001b[0;34m.\u001b[0m\u001b[0m_call_batch_hook_helper\u001b[0m\u001b[0;34m(\u001b[0m\u001b[0mhook_name\u001b[0m\u001b[0;34m,\u001b[0m \u001b[0mbatch\u001b[0m\u001b[0;34m,\u001b[0m \u001b[0mlogs\u001b[0m\u001b[0;34m)\u001b[0m\u001b[0;34m\u001b[0m\u001b[0;34m\u001b[0m\u001b[0m\n\u001b[0m\u001b[1;32m    316\u001b[0m \u001b[0;34m\u001b[0m\u001b[0m\n\u001b[1;32m    317\u001b[0m     \u001b[0;32mif\u001b[0m \u001b[0mlen\u001b[0m\u001b[0;34m(\u001b[0m\u001b[0mself\u001b[0m\u001b[0;34m.\u001b[0m\u001b[0m_batch_times\u001b[0m\u001b[0;34m)\u001b[0m \u001b[0;34m>=\u001b[0m \u001b[0mself\u001b[0m\u001b[0;34m.\u001b[0m\u001b[0m_num_batches_for_timing_check\u001b[0m\u001b[0;34m:\u001b[0m\u001b[0;34m\u001b[0m\u001b[0;34m\u001b[0m\u001b[0m\n",
      "\u001b[0;32m/usr/local/lib/python3.6/dist-packages/keras/callbacks.py\u001b[0m in \u001b[0;36m_call_batch_hook_helper\u001b[0;34m(self, hook_name, batch, logs)\u001b[0m\n\u001b[1;32m    351\u001b[0m     \u001b[0;32mfor\u001b[0m \u001b[0mcallback\u001b[0m \u001b[0;32min\u001b[0m \u001b[0mself\u001b[0m\u001b[0;34m.\u001b[0m\u001b[0mcallbacks\u001b[0m\u001b[0;34m:\u001b[0m\u001b[0;34m\u001b[0m\u001b[0;34m\u001b[0m\u001b[0m\n\u001b[1;32m    352\u001b[0m       \u001b[0mhook\u001b[0m \u001b[0;34m=\u001b[0m \u001b[0mgetattr\u001b[0m\u001b[0;34m(\u001b[0m\u001b[0mcallback\u001b[0m\u001b[0;34m,\u001b[0m \u001b[0mhook_name\u001b[0m\u001b[0;34m)\u001b[0m\u001b[0;34m\u001b[0m\u001b[0;34m\u001b[0m\u001b[0m\n\u001b[0;32m--> 353\u001b[0;31m       \u001b[0mhook\u001b[0m\u001b[0;34m(\u001b[0m\u001b[0mbatch\u001b[0m\u001b[0;34m,\u001b[0m \u001b[0mlogs\u001b[0m\u001b[0;34m)\u001b[0m\u001b[0;34m\u001b[0m\u001b[0;34m\u001b[0m\u001b[0m\n\u001b[0m\u001b[1;32m    354\u001b[0m \u001b[0;34m\u001b[0m\u001b[0m\n\u001b[1;32m    355\u001b[0m     \u001b[0;32mif\u001b[0m \u001b[0mself\u001b[0m\u001b[0;34m.\u001b[0m\u001b[0m_check_timing\u001b[0m\u001b[0;34m:\u001b[0m\u001b[0;34m\u001b[0m\u001b[0;34m\u001b[0m\u001b[0m\n",
      "\u001b[0;32m/usr/local/lib/python3.6/dist-packages/keras/callbacks.py\u001b[0m in \u001b[0;36mon_train_batch_end\u001b[0;34m(self, batch, logs)\u001b[0m\n\u001b[1;32m   1026\u001b[0m \u001b[0;34m\u001b[0m\u001b[0m\n\u001b[1;32m   1027\u001b[0m   \u001b[0;32mdef\u001b[0m \u001b[0mon_train_batch_end\u001b[0m\u001b[0;34m(\u001b[0m\u001b[0mself\u001b[0m\u001b[0;34m,\u001b[0m \u001b[0mbatch\u001b[0m\u001b[0;34m,\u001b[0m \u001b[0mlogs\u001b[0m\u001b[0;34m=\u001b[0m\u001b[0;32mNone\u001b[0m\u001b[0;34m)\u001b[0m\u001b[0;34m:\u001b[0m\u001b[0;34m\u001b[0m\u001b[0;34m\u001b[0m\u001b[0m\n\u001b[0;32m-> 1028\u001b[0;31m     \u001b[0mself\u001b[0m\u001b[0;34m.\u001b[0m\u001b[0m_batch_update_progbar\u001b[0m\u001b[0;34m(\u001b[0m\u001b[0mbatch\u001b[0m\u001b[0;34m,\u001b[0m \u001b[0mlogs\u001b[0m\u001b[0;34m)\u001b[0m\u001b[0;34m\u001b[0m\u001b[0;34m\u001b[0m\u001b[0m\n\u001b[0m\u001b[1;32m   1029\u001b[0m \u001b[0;34m\u001b[0m\u001b[0m\n\u001b[1;32m   1030\u001b[0m   \u001b[0;32mdef\u001b[0m \u001b[0mon_test_batch_end\u001b[0m\u001b[0;34m(\u001b[0m\u001b[0mself\u001b[0m\u001b[0;34m,\u001b[0m \u001b[0mbatch\u001b[0m\u001b[0;34m,\u001b[0m \u001b[0mlogs\u001b[0m\u001b[0;34m=\u001b[0m\u001b[0;32mNone\u001b[0m\u001b[0;34m)\u001b[0m\u001b[0;34m:\u001b[0m\u001b[0;34m\u001b[0m\u001b[0;34m\u001b[0m\u001b[0m\n",
      "\u001b[0;32m/usr/local/lib/python3.6/dist-packages/keras/callbacks.py\u001b[0m in \u001b[0;36m_batch_update_progbar\u001b[0;34m(self, batch, logs)\u001b[0m\n\u001b[1;32m   1098\u001b[0m     \u001b[0;32mif\u001b[0m \u001b[0mself\u001b[0m\u001b[0;34m.\u001b[0m\u001b[0mverbose\u001b[0m \u001b[0;34m==\u001b[0m \u001b[0;36m1\u001b[0m\u001b[0;34m:\u001b[0m\u001b[0;34m\u001b[0m\u001b[0;34m\u001b[0m\u001b[0m\n\u001b[1;32m   1099\u001b[0m       \u001b[0;31m# Only block async when verbose = 1.\u001b[0m\u001b[0;34m\u001b[0m\u001b[0;34m\u001b[0m\u001b[0;34m\u001b[0m\u001b[0m\n\u001b[0;32m-> 1100\u001b[0;31m       \u001b[0mlogs\u001b[0m \u001b[0;34m=\u001b[0m \u001b[0mtf_utils\u001b[0m\u001b[0;34m.\u001b[0m\u001b[0msync_to_numpy_or_python_type\u001b[0m\u001b[0;34m(\u001b[0m\u001b[0mlogs\u001b[0m\u001b[0;34m)\u001b[0m\u001b[0;34m\u001b[0m\u001b[0;34m\u001b[0m\u001b[0m\n\u001b[0m\u001b[1;32m   1101\u001b[0m       \u001b[0mself\u001b[0m\u001b[0;34m.\u001b[0m\u001b[0mprogbar\u001b[0m\u001b[0;34m.\u001b[0m\u001b[0mupdate\u001b[0m\u001b[0;34m(\u001b[0m\u001b[0mself\u001b[0m\u001b[0;34m.\u001b[0m\u001b[0mseen\u001b[0m\u001b[0;34m,\u001b[0m \u001b[0mlist\u001b[0m\u001b[0;34m(\u001b[0m\u001b[0mlogs\u001b[0m\u001b[0;34m.\u001b[0m\u001b[0mitems\u001b[0m\u001b[0;34m(\u001b[0m\u001b[0;34m)\u001b[0m\u001b[0;34m)\u001b[0m\u001b[0;34m,\u001b[0m \u001b[0mfinalize\u001b[0m\u001b[0;34m=\u001b[0m\u001b[0;32mFalse\u001b[0m\u001b[0;34m)\u001b[0m\u001b[0;34m\u001b[0m\u001b[0;34m\u001b[0m\u001b[0m\n\u001b[1;32m   1102\u001b[0m \u001b[0;34m\u001b[0m\u001b[0m\n",
      "\u001b[0;32m/usr/local/lib/python3.6/dist-packages/keras/utils/tf_utils.py\u001b[0m in \u001b[0;36msync_to_numpy_or_python_type\u001b[0;34m(tensors)\u001b[0m\n\u001b[1;32m    514\u001b[0m     \u001b[0;32mreturn\u001b[0m \u001b[0mt\u001b[0m  \u001b[0;31m# Don't turn ragged or sparse tensors to NumPy.\u001b[0m\u001b[0;34m\u001b[0m\u001b[0;34m\u001b[0m\u001b[0m\n\u001b[1;32m    515\u001b[0m \u001b[0;34m\u001b[0m\u001b[0m\n\u001b[0;32m--> 516\u001b[0;31m   \u001b[0;32mreturn\u001b[0m \u001b[0mtf\u001b[0m\u001b[0;34m.\u001b[0m\u001b[0mnest\u001b[0m\u001b[0;34m.\u001b[0m\u001b[0mmap_structure\u001b[0m\u001b[0;34m(\u001b[0m\u001b[0m_to_single_numpy_or_python_type\u001b[0m\u001b[0;34m,\u001b[0m \u001b[0mtensors\u001b[0m\u001b[0;34m)\u001b[0m\u001b[0;34m\u001b[0m\u001b[0;34m\u001b[0m\u001b[0m\n\u001b[0m\u001b[1;32m    517\u001b[0m \u001b[0;34m\u001b[0m\u001b[0m\n\u001b[1;32m    518\u001b[0m \u001b[0;34m\u001b[0m\u001b[0m\n",
      "\u001b[0;32m/usr/local/lib/python3.6/dist-packages/tensorflow/python/util/nest.py\u001b[0m in \u001b[0;36mmap_structure\u001b[0;34m(func, *structure, **kwargs)\u001b[0m\n\u001b[1;32m    867\u001b[0m \u001b[0;34m\u001b[0m\u001b[0m\n\u001b[1;32m    868\u001b[0m   return pack_sequence_as(\n\u001b[0;32m--> 869\u001b[0;31m       \u001b[0mstructure\u001b[0m\u001b[0;34m[\u001b[0m\u001b[0;36m0\u001b[0m\u001b[0;34m]\u001b[0m\u001b[0;34m,\u001b[0m \u001b[0;34m[\u001b[0m\u001b[0mfunc\u001b[0m\u001b[0;34m(\u001b[0m\u001b[0;34m*\u001b[0m\u001b[0mx\u001b[0m\u001b[0;34m)\u001b[0m \u001b[0;32mfor\u001b[0m \u001b[0mx\u001b[0m \u001b[0;32min\u001b[0m \u001b[0mentries\u001b[0m\u001b[0;34m]\u001b[0m\u001b[0;34m,\u001b[0m\u001b[0;34m\u001b[0m\u001b[0;34m\u001b[0m\u001b[0m\n\u001b[0m\u001b[1;32m    870\u001b[0m       expand_composites=expand_composites)\n\u001b[1;32m    871\u001b[0m \u001b[0;34m\u001b[0m\u001b[0m\n",
      "\u001b[0;32m/usr/local/lib/python3.6/dist-packages/tensorflow/python/util/nest.py\u001b[0m in \u001b[0;36m<listcomp>\u001b[0;34m(.0)\u001b[0m\n\u001b[1;32m    867\u001b[0m \u001b[0;34m\u001b[0m\u001b[0m\n\u001b[1;32m    868\u001b[0m   return pack_sequence_as(\n\u001b[0;32m--> 869\u001b[0;31m       \u001b[0mstructure\u001b[0m\u001b[0;34m[\u001b[0m\u001b[0;36m0\u001b[0m\u001b[0;34m]\u001b[0m\u001b[0;34m,\u001b[0m \u001b[0;34m[\u001b[0m\u001b[0mfunc\u001b[0m\u001b[0;34m(\u001b[0m\u001b[0;34m*\u001b[0m\u001b[0mx\u001b[0m\u001b[0;34m)\u001b[0m \u001b[0;32mfor\u001b[0m \u001b[0mx\u001b[0m \u001b[0;32min\u001b[0m \u001b[0mentries\u001b[0m\u001b[0;34m]\u001b[0m\u001b[0;34m,\u001b[0m\u001b[0;34m\u001b[0m\u001b[0;34m\u001b[0m\u001b[0m\n\u001b[0m\u001b[1;32m    870\u001b[0m       expand_composites=expand_composites)\n\u001b[1;32m    871\u001b[0m \u001b[0;34m\u001b[0m\u001b[0m\n",
      "\u001b[0;32m/usr/local/lib/python3.6/dist-packages/keras/utils/tf_utils.py\u001b[0m in \u001b[0;36m_to_single_numpy_or_python_type\u001b[0;34m(t)\u001b[0m\n\u001b[1;32m    510\u001b[0m   \u001b[0;32mdef\u001b[0m \u001b[0m_to_single_numpy_or_python_type\u001b[0m\u001b[0;34m(\u001b[0m\u001b[0mt\u001b[0m\u001b[0;34m)\u001b[0m\u001b[0;34m:\u001b[0m\u001b[0;34m\u001b[0m\u001b[0;34m\u001b[0m\u001b[0m\n\u001b[1;32m    511\u001b[0m     \u001b[0;32mif\u001b[0m \u001b[0misinstance\u001b[0m\u001b[0;34m(\u001b[0m\u001b[0mt\u001b[0m\u001b[0;34m,\u001b[0m \u001b[0mtf\u001b[0m\u001b[0;34m.\u001b[0m\u001b[0mTensor\u001b[0m\u001b[0;34m)\u001b[0m\u001b[0;34m:\u001b[0m\u001b[0;34m\u001b[0m\u001b[0;34m\u001b[0m\u001b[0m\n\u001b[0;32m--> 512\u001b[0;31m       \u001b[0mx\u001b[0m \u001b[0;34m=\u001b[0m \u001b[0mt\u001b[0m\u001b[0;34m.\u001b[0m\u001b[0mnumpy\u001b[0m\u001b[0;34m(\u001b[0m\u001b[0;34m)\u001b[0m\u001b[0;34m\u001b[0m\u001b[0;34m\u001b[0m\u001b[0m\n\u001b[0m\u001b[1;32m    513\u001b[0m       \u001b[0;32mreturn\u001b[0m \u001b[0mx\u001b[0m\u001b[0;34m.\u001b[0m\u001b[0mitem\u001b[0m\u001b[0;34m(\u001b[0m\u001b[0;34m)\u001b[0m \u001b[0;32mif\u001b[0m \u001b[0mnp\u001b[0m\u001b[0;34m.\u001b[0m\u001b[0mndim\u001b[0m\u001b[0;34m(\u001b[0m\u001b[0mx\u001b[0m\u001b[0;34m)\u001b[0m \u001b[0;34m==\u001b[0m \u001b[0;36m0\u001b[0m \u001b[0;32melse\u001b[0m \u001b[0mx\u001b[0m\u001b[0;34m\u001b[0m\u001b[0;34m\u001b[0m\u001b[0m\n\u001b[1;32m    514\u001b[0m     \u001b[0;32mreturn\u001b[0m \u001b[0mt\u001b[0m  \u001b[0;31m# Don't turn ragged or sparse tensors to NumPy.\u001b[0m\u001b[0;34m\u001b[0m\u001b[0;34m\u001b[0m\u001b[0m\n",
      "\u001b[0;32m/usr/local/lib/python3.6/dist-packages/tensorflow/python/framework/ops.py\u001b[0m in \u001b[0;36mnumpy\u001b[0;34m(self)\u001b[0m\n\u001b[1;32m   1092\u001b[0m     \"\"\"\n\u001b[1;32m   1093\u001b[0m     \u001b[0;31m# TODO(slebedev): Consider avoiding a copy for non-CPU or remote tensors.\u001b[0m\u001b[0;34m\u001b[0m\u001b[0;34m\u001b[0m\u001b[0;34m\u001b[0m\u001b[0m\n\u001b[0;32m-> 1094\u001b[0;31m     \u001b[0mmaybe_arr\u001b[0m \u001b[0;34m=\u001b[0m \u001b[0mself\u001b[0m\u001b[0;34m.\u001b[0m\u001b[0m_numpy\u001b[0m\u001b[0;34m(\u001b[0m\u001b[0;34m)\u001b[0m  \u001b[0;31m# pylint: disable=protected-access\u001b[0m\u001b[0;34m\u001b[0m\u001b[0;34m\u001b[0m\u001b[0m\n\u001b[0m\u001b[1;32m   1095\u001b[0m     \u001b[0;32mreturn\u001b[0m \u001b[0mmaybe_arr\u001b[0m\u001b[0;34m.\u001b[0m\u001b[0mcopy\u001b[0m\u001b[0;34m(\u001b[0m\u001b[0;34m)\u001b[0m \u001b[0;32mif\u001b[0m \u001b[0misinstance\u001b[0m\u001b[0;34m(\u001b[0m\u001b[0mmaybe_arr\u001b[0m\u001b[0;34m,\u001b[0m \u001b[0mnp\u001b[0m\u001b[0;34m.\u001b[0m\u001b[0mndarray\u001b[0m\u001b[0;34m)\u001b[0m \u001b[0;32melse\u001b[0m \u001b[0mmaybe_arr\u001b[0m\u001b[0;34m\u001b[0m\u001b[0;34m\u001b[0m\u001b[0m\n\u001b[1;32m   1096\u001b[0m \u001b[0;34m\u001b[0m\u001b[0m\n",
      "\u001b[0;32m/usr/local/lib/python3.6/dist-packages/tensorflow/python/framework/ops.py\u001b[0m in \u001b[0;36m_numpy\u001b[0;34m(self)\u001b[0m\n\u001b[1;32m   1058\u001b[0m   \u001b[0;32mdef\u001b[0m \u001b[0m_numpy\u001b[0m\u001b[0;34m(\u001b[0m\u001b[0mself\u001b[0m\u001b[0;34m)\u001b[0m\u001b[0;34m:\u001b[0m\u001b[0;34m\u001b[0m\u001b[0;34m\u001b[0m\u001b[0m\n\u001b[1;32m   1059\u001b[0m     \u001b[0;32mtry\u001b[0m\u001b[0;34m:\u001b[0m\u001b[0;34m\u001b[0m\u001b[0;34m\u001b[0m\u001b[0m\n\u001b[0;32m-> 1060\u001b[0;31m       \u001b[0;32mreturn\u001b[0m \u001b[0mself\u001b[0m\u001b[0;34m.\u001b[0m\u001b[0m_numpy_internal\u001b[0m\u001b[0;34m(\u001b[0m\u001b[0;34m)\u001b[0m\u001b[0;34m\u001b[0m\u001b[0;34m\u001b[0m\u001b[0m\n\u001b[0m\u001b[1;32m   1061\u001b[0m     \u001b[0;32mexcept\u001b[0m \u001b[0mcore\u001b[0m\u001b[0;34m.\u001b[0m\u001b[0m_NotOkStatusException\u001b[0m \u001b[0;32mas\u001b[0m \u001b[0me\u001b[0m\u001b[0;34m:\u001b[0m  \u001b[0;31m# pylint: disable=protected-access\u001b[0m\u001b[0;34m\u001b[0m\u001b[0;34m\u001b[0m\u001b[0m\n\u001b[1;32m   1062\u001b[0m       \u001b[0msix\u001b[0m\u001b[0;34m.\u001b[0m\u001b[0mraise_from\u001b[0m\u001b[0;34m(\u001b[0m\u001b[0mcore\u001b[0m\u001b[0;34m.\u001b[0m\u001b[0m_status_to_exception\u001b[0m\u001b[0;34m(\u001b[0m\u001b[0me\u001b[0m\u001b[0;34m.\u001b[0m\u001b[0mcode\u001b[0m\u001b[0;34m,\u001b[0m \u001b[0me\u001b[0m\u001b[0;34m.\u001b[0m\u001b[0mmessage\u001b[0m\u001b[0;34m)\u001b[0m\u001b[0;34m,\u001b[0m \u001b[0;32mNone\u001b[0m\u001b[0;34m)\u001b[0m  \u001b[0;31m# pylint: disable=protected-access\u001b[0m\u001b[0;34m\u001b[0m\u001b[0;34m\u001b[0m\u001b[0m\n",
      "\u001b[0;31mKeyboardInterrupt\u001b[0m: "
     ]
    }
   ],
   "source": [
    "### advanced learn\n",
    "from tensorflow.keras.models import load_model\n",
    "model=load_model(\"./models/latest.h5\")\n",
    "model.fit(x_trainp,y_trainp,64,epochs=30,callbacks=cb,validation_split=0.05)\n",
    "model.save(\"./models/m{}.h5\".format(time.strftime(\"%Y_%m_%d_%H_%M_%S\", time.localtime())))\n",
    "model.save(\"./models/latest.h5\")"
   ]
  },
  {
   "cell_type": "code",
   "execution_count": null,
   "metadata": {},
   "outputs": [
    {
     "name": "stderr",
     "output_type": "stream",
     "text": [
      "50it [00:00, 55.10it/s]\n"
     ]
    }
   ],
   "source": [
    "x_testp,y_testp=[],[]\n",
    "for x,y in tqdm(zip(x_test,y_test)):\n",
    "    agx,agy=test_preprocess(x,y)\n",
    "    x_testp+=agx\n",
    "    y_testp+=agy\n",
    "x_testp,y_testp=np.array(x_testp),np.array(y_testp)"
   ]
  },
  {
   "cell_type": "code",
   "execution_count": null,
   "metadata": {},
   "outputs": [
    {
     "name": "stdout",
     "output_type": "stream",
     "text": [
      "Test accuracy=0.7799999713897705\n"
     ]
    }
   ],
   "source": [
    "from tensorflow.keras import metrics\n",
    "y_predit=model.predict(x_testp)\n",
    "tot=metrics.sparse_categorical_accuracy(y_testp,y_predit)\n",
    "acc=sum(tot)/len(tot)\n",
    "print(\"Test accuracy={}\".format(acc.numpy()))"
   ]
  },
  {
   "cell_type": "code",
   "execution_count": null,
   "metadata": {},
   "outputs": [
    {
     "data": {
      "image/png": "[encoded data removed]",
      "text/plain": [
       "<Figure size 432x288 with 1 Axes>"
      ]
     },
     "metadata": {
      "needs_background": "light"
     },
     "output_type": "display_data"
    }
   ],
   "source": [
    "import numpy as np\n",
    "import matplotlib.pyplot as plt\n",
    "from itertools import cycle\n",
    "\n",
    "from sklearn import svm, datasets\n",
    "from sklearn.metrics import roc_curve, auc\n",
    "from sklearn.model_selection import train_test_split\n",
    "from sklearn.preprocessing import label_binarize\n",
    "from sklearn.multiclass import OneVsRestClassifier\n",
    "# from scipy import interp\n",
    "\n",
    "\n",
    "# ylabel=label_binarize(y_testp,classes=[0,1])\n",
    "# fpr = dict()\n",
    "# tpr = dict()\n",
    "# roc_auc = dict()\n",
    "# for i in range(2):\n",
    "fpr, tpr, _ = roc_curve(y_testp, y_predit[:, 1])\n",
    "roc_auc = auc(fpr, tpr)\n",
    "# fpr[0].shape==tpr[0].shape==(21, ), fpr[1].shape==tpr[1].shape==(35, ), fpr[2].shape==tpr[2].shape==(33, ) \n",
    "# roc_auc {0: 0.9118165784832452, 1: 0.6029629629629629, 2: 0.7859477124183007}\n",
    "\n",
    "plt.figure()\n",
    "lw = 2\n",
    "plt.plot(fpr, tpr, color='darkorange',\n",
    "         lw=lw, label='ROC curve (area = %0.2f)' % roc_auc)\n",
    "plt.plot([0, 1], [0, 1], color='navy', lw=lw, linestyle='--')\n",
    "plt.xlim([0.0, 1.0])\n",
    "plt.ylim([0.0, 1.05])\n",
    "plt.xlabel('False Positive Rate')\n",
    "plt.ylabel('True Positive Rate')\n",
    "# plt.title('Receiver operating characteristic example')\n",
    "plt.title('ROC of Score')\n",
    "plt.legend(loc=\"lower right\")\n",
    "plt.show()\n"
   ]
  },
  {
   "cell_type": "code",
   "execution_count": null,
   "metadata": {},
   "outputs": [],
   "source": []
  }
 ],
 "metadata": {
  "interpreter": {
   "hash": "55702b90ceafba54e3ad10b929c72d2322c4b2ddf39adb4363ed7efc5edc6583"
  },
  "kernelspec": {
   "display_name": "Python 3.7.9 64-bit ('mtf': conda)",
   "language": "python",
   "name": "python3"
  },
  "language_info": {
   "codemirror_mode": {
    "name": "ipython",
    "version": 3
   },
   "file_extension": ".py",
   "mimetype": "text/x-python",
   "name": "python",
   "nbconvert_exporter": "python",
   "pygments_lexer": "ipython3",
   "version": "3.6.9"
  },
  "orig_nbformat": 4
 },
 "nbformat": 4,
 "nbformat_minor": 2
}
